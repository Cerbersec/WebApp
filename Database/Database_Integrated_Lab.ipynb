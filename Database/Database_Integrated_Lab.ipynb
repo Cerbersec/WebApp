{
 "cells": [
  {
   "cell_type": "code",
   "execution_count": 546,
   "metadata": {},
   "outputs": [
    {
     "name": "stdout",
     "output_type": "stream",
     "text": [
      "Requirement already satisfied: requests in c:\\users\\smeet\\anaconda3\\lib\\site-packages (2.22.0)\n",
      "Requirement already satisfied: idna<2.9,>=2.5 in c:\\users\\smeet\\anaconda3\\lib\\site-packages (from requests) (2.8)\n",
      "Requirement already satisfied: urllib3!=1.25.0,!=1.25.1,<1.26,>=1.21.1 in c:\\users\\smeet\\anaconda3\\lib\\site-packages (from requests) (1.24.2)\n",
      "Requirement already satisfied: certifi>=2017.4.17 in c:\\users\\smeet\\anaconda3\\lib\\site-packages (from requests) (2019.9.11)\n",
      "Requirement already satisfied: chardet<3.1.0,>=3.0.2 in c:\\users\\smeet\\anaconda3\\lib\\site-packages (from requests) (3.0.4)\n",
      "Note: you may need to restart the kernel to use updated packages.\n"
     ]
    },
    {
     "name": "stderr",
     "output_type": "stream",
     "text": [
      "WARNING: You are using pip version 20.2.3; however, version 20.2.4 is available.\n",
      "You should consider upgrading via the 'C:\\Users\\smeet\\Anaconda3\\python.exe -m pip install --upgrade pip' command.\n"
     ]
    }
   ],
   "source": [
    "%pip install requests\n",
    "import requests\n",
    "import pandas as pd\n",
    "import requests\n",
    "from bs4 import BeautifulSoup\n",
    "import re\n",
    "from gazpacho import Soup\n",
    "from bs2json import bs2json\n",
    "def getNumbers(str): \n",
    "    array = re.findall(r'[0-9]+', str)\n",
    "    return array \n"
   ]
  },
  {
   "cell_type": "code",
   "execution_count": 547,
   "metadata": {},
   "outputs": [],
   "source": [
    "database_url = [\"https://api.thesneakerdatabase.com/v1/sneakers?limit=100&page=1\",\n",
    "\"https://api.thesneakerdatabase.com/v1/sneakers?limit=100&page=2\",\n",
    "\"https://api.thesneakerdatabase.com/v1/sneakers?limit=100&page=3\",\n",
    "\"https://api.thesneakerdatabase.com/v1/sneakers?limit=100&page=4\",\n",
    "\"https://api.thesneakerdatabase.com/v1/sneakers?limit=100&page=5\",\n",
    "\"https://api.thesneakerdatabase.com/v1/sneakers?limit=100&page=6\",\n",
    "\"https://api.thesneakerdatabase.com/v1/sneakers?limit=100&page=7\",\n",
    "\"https://api.thesneakerdatabase.com/v1/sneakers?limit=100&page=8\",\n",
    "\"https://api.thesneakerdatabase.com/v1/sneakers?limit=100&page=9\",\n",
    "\"https://api.thesneakerdatabase.com/v1/sneakers?limit=100&page=10\",\n",
    "\"https://api.thesneakerdatabase.com/v1/sneakers?limit=100&page=11\",\n",
    "\"https://api.thesneakerdatabase.com/v1/sneakers?limit=100&page=12\",\n",
    "\"https://api.thesneakerdatabase.com/v1/sneakers?limit=100&page=13\",\n",
    "\"https://api.thesneakerdatabase.com/v1/sneakers?limit=100&page=14\",\n",
    "\"https://api.thesneakerdatabase.com/v1/sneakers?limit=100&page=15\",\n",
    "\"https://api.thesneakerdatabase.com/v1/sneakers?limit=100&page=16\",\n",
    "\"https://api.thesneakerdatabase.com/v1/sneakers?limit=100&page=17\",\n",
    "\"https://api.thesneakerdatabase.com/v1/sneakers?limit=100&page=18\",\n",
    "\"https://api.thesneakerdatabase.com/v1/sneakers?limit=100&page=19\",\n",
    "\"https://api.thesneakerdatabase.com/v1/sneakers?limit=100&page=20\"]\n",
    "\n",
    "database = []\n",
    "for element in database_url:\n",
    "    response = requests.get(element)\n",
    "    a = response.json()['results']\n",
    "    database.append(a)\n"
   ]
  },
  {
   "cell_type": "code",
   "execution_count": null,
   "metadata": {},
   "outputs": [],
   "source": []
  },
  {
   "cell_type": "code",
   "execution_count": 548,
   "metadata": {},
   "outputs": [],
   "source": [
    "shoes_ID = []\n",
    "shoes_brand = []\n",
    "shoes_gender = []\n",
    "shoes_name = []\n",
    "shoes_year = []\n",
    "shoes_releasedate = []\n",
    "shoes_retailprice = []\n",
    "shoes_shoe = []\n",
    "categorie = []\n",
    "color = []\n",
    "img = []\n",
    "description = []\n",
    "for i in range(len(database)): \n",
    "    lijst = database[i]\n",
    "    for shoe in lijst:\n",
    "        ID = shoe['id']\n",
    "        shoes_ID.append(ID)\n",
    "        uitleg = shoe['title']\n",
    "        if uitleg == None:\n",
    "            uitleg = \"Shoe for everyone\"\n",
    "        description.append(uitleg)\n",
    "        image = shoe['media'].get('thumbUrl')\n",
    "        if image == None: \n",
    "            image = \"https://stockx.imgix.net/Nike-Air-Max-270-XX-Summit-White-Pistachio-Frost-W.png?fit=fill&bg=FFFFFF&w=140&h=100&auto=format,compress&trim=color&q=90&dpr=2&updated_at=1603481985\"\n",
    "        img.append(image)\n",
    "        brand = shoe['brand']\n",
    "        shoes_brand.append(brand)\n",
    "        gender = shoe['gender']\n",
    "        shoes_gender.append(gender)\n",
    "        name = shoe['name']\n",
    "        shoes_name.append(name)\n",
    "        year = shoe['year']\n",
    "        shoes_year.append(year)\n",
    "        releaseDate = shoe['releaseDate'].split(' ')[0]\n",
    "        shoes_releasedate.append(releaseDate)\n",
    "        retailprice = shoe['retailPrice']\n",
    "        shoes_retailprice.append(retailprice)\n",
    "        kleur = shoe['colorway']\n",
    "        color.append(kleur)\n",
    "        shoe = shoe['shoe']\n",
    "        shoes_shoe.append(shoe)\n",
    "\n",
    "\n",
    "lengte_db = len(database)\n",
    "lengte_lijst = len(lijst)\n",
    "x = lengte_db * lengte_lijst\n",
    "\n",
    "for a in range((x)):\n",
    "    categorie.append(\"shoe\")\n"
   ]
  },
  {
   "cell_type": "code",
   "execution_count": 549,
   "metadata": {},
   "outputs": [
    {
     "name": "stdout",
     "output_type": "stream",
     "text": [
      "2000\n",
      "2000\n",
      "2000\n"
     ]
    }
   ],
   "source": [
    "print(len(description))\n",
    "print(len(shoes_ID))\n",
    "print(len(color))"
   ]
  },
  {
   "cell_type": "code",
   "execution_count": 550,
   "metadata": {},
   "outputs": [],
   "source": [
    "schoenverzorging = [\"https://www.torfs.be/nl/dames/accessoires/schoenverzorging/?cgid=Dames-Accessoires-Schoenverzorging&sz=24\",\"https://www.torfs.be/nl/heren/accessoires/schoenverzorging/?cgid=Heren-Accessoires-Schoenverzorging&sz=24\"]\n",
    "\n",
    "prijzen_schoenverzorging=[]\n",
    "product_categorie = []\n",
    "brand = []\n",
    "ids = []\n",
    "product_name = []\n",
    "product_gender_schoenverzorging = []\n",
    "kleur = []\n",
    "img_verzorging = []\n",
    "\n",
    "for a in schoenverzorging:\n",
    "    response = requests.get(a)\n",
    "    soup = BeautifulSoup(response.content, \"html.parser\")  \n",
    "    \n",
    "    productDivs = soup.findAll('div', attrs={'class' : 'pdp-link brand'})\n",
    "    for div in productDivs:\n",
    "        a = (div.find('a')['href'])\n",
    "        a = a.split('nl/')[1]\n",
    "        a = a.split('/')[0]\n",
    "        product_gender_schoenverzorging.append(a)\n",
    "        \n",
    "    for row in soup.findAll('span', attrs = {'class':'price__sales false'}): \n",
    "        a = row.span.text\n",
    "        a = a.replace('€','')\n",
    "        a = a.rstrip(\"\\n\")\n",
    "        a = a.lstrip(\"\\n\")\n",
    "        a = a.replace(',', '.')\n",
    "        a = float(a)\n",
    "        prijzen_schoenverzorging.append(a)\n",
    "        \n",
    "    afbeeldingen = soup.find_all('img', attrs={'class' : 'tile-image'})\n",
    "    for row in afbeeldingen:\n",
    "        image = row['src']\n",
    "        img_verzorging.append(image)\n",
    "        \n",
    "    for row in soup.findAll('div', attrs = {'class' : 'pdp-link brand'}): \n",
    "        a = row.text\n",
    "        a = a.rstrip(\"\\n\")\n",
    "        a = a.lstrip(\"\\n\")\n",
    "        product_categorie.append(a)\n",
    "        \n",
    "        \n",
    "    for row in soup.findAll('div', attrs = {'class' : 'pdp-link'}): \n",
    "        a = row.text\n",
    "        a = a.rstrip(\"\\n\")\n",
    "        a = a.lstrip(\"\\n\")\n",
    "        if a != \"Schoenverzorging\":\n",
    "            brand.append(a)\n",
    "    \n",
    "    link = soup.findAll('div', attrs = {'class' : 'pdp-link brand'})\n",
    "    for row in link:\n",
    "        a = (row.find('a')['href'])\n",
    "        a = getNumbers(a)\n",
    "        ids.append(a[len(a) - 1])\n",
    "        \n",
    "    \n",
    "\n",
    "    title = soup.findAll('meta',  itemprom=\"analytics\")\n",
    "    for x, i in enumerate(title):\n",
    "        strings = str(title[x])\n",
    "        woord =(strings.split('\"name\":')[1])\n",
    "        woord1 = woord.split(\",\")[0]\n",
    "        woord1 = woord1.lstrip('\" ')\n",
    "        woord1 = woord1.rstrip('\" ')\n",
    "        product_name.append(woord1)\n",
    "        \n",
    "for a in range(len(prijzen_schoenverzorging)):\n",
    "    kleur.append(\"/\")\n",
    "\n",
    "\n",
    "tekst_schoenverzorging = []\n",
    "paginas = []\n",
    "for x,i in enumerate(ids):\n",
    "    i = (str(i))\n",
    "    test = \"https://www.torfs.be/nl/dames/accessoires/schoenverzorging/famaco-eco-protect-spray-150ml-/\" + i + \".html?\"\n",
    "    paginas.append(test)\n",
    "\n",
    "for a in paginas:\n",
    "    response = requests.get(a)\n",
    "    soup = BeautifulSoup(response.content, \"html.parser\")\n",
    "\n",
    "    branding= soup.findAll('span', attrs = {'class' : 'attribute-siteDescription'})\n",
    "    for row in branding:\n",
    "        b = row.text\n",
    "        tekst_schoenverzorging.append(b)"
   ]
  },
  {
   "cell_type": "code",
   "execution_count": 551,
   "metadata": {},
   "outputs": [
    {
     "name": "stdout",
     "output_type": "stream",
     "text": [
      "18\n",
      "18\n",
      "18\n"
     ]
    }
   ],
   "source": [
    "print(len(tekst_schoenverzorging))\n",
    "print(len(ids))\n",
    "print(len(kleur))"
   ]
  },
  {
   "cell_type": "code",
   "execution_count": 552,
   "metadata": {},
   "outputs": [],
   "source": [
    "#lijsten bij elkaar voegen\n",
    "shoes_ID.extend(ids)\n",
    "shoes_brand.extend(brand)\n",
    "shoes_retailprice.extend(prijzen_schoenverzorging)\n",
    "shoes_shoe.extend(product_name)\n",
    "categorie.extend(product_categorie)\n",
    "shoes_gender.extend(product_gender_schoenverzorging)\n",
    "color.extend(kleur)\n",
    "img.extend(img_verzorging)\n",
    "description.extend(tekst_schoenverzorging)"
   ]
  },
  {
   "cell_type": "code",
   "execution_count": 553,
   "metadata": {},
   "outputs": [],
   "source": [
    "zolen = [\"https://www.torfs.be/nl/dames/accessoires/zolen/?cgid=Dames-Accessoires-Zolen&sz=24\",\"https://www.torfs.be/nl/heren/accessoires/zolen/?cgid=Heren-Accessoires-Zolen&sz=24\"]\n",
    "\n",
    "prijzen_zolen=[]\n",
    "product_categorie_zolen = []\n",
    "brand_zolen = []\n",
    "ids_zolen = []\n",
    "product_name_zolen = []\n",
    "product_gender_zolen = []\n",
    "kleur_zolen = []\n",
    "img_zolen = []\n",
    "for a in zolen:\n",
    "    response = requests.get(a)\n",
    "    soup = BeautifulSoup(response.content, \"html.parser\")  \n",
    "    \n",
    "    productDivs = soup.findAll('div', attrs={'class' : 'pdp-link brand'})\n",
    "    for div in productDivs:\n",
    "        a = (div.find('a')['href'])\n",
    "        a = a.split('nl/')[1]\n",
    "        a = a.split('/')[0]\n",
    "        product_gender_zolen.append(a)\n",
    "        \n",
    "    for row in soup.findAll('span', attrs = {'class':'price__sales false'}): \n",
    "        a = row.span.text\n",
    "        a = a.replace('€','')\n",
    "        a = a.rstrip(\"\\n\")\n",
    "        a = a.lstrip(\"\\n\")\n",
    "        a = a.replace(',', '.')\n",
    "        a = float(a)\n",
    "        prijzen_zolen.append(a)\n",
    "        \n",
    "    afbeeldingen = soup.find_all('img', attrs={'class' : 'tile-image'})\n",
    "    for row in afbeeldingen:\n",
    "        image = row['src']\n",
    "        img_zolen.append(image)       \n",
    "    for row in soup.findAll('div', attrs = {'class' : 'pdp-link brand'}): \n",
    "        a = row.text\n",
    "        a = a.rstrip(\"\\n\")\n",
    "        a = a.lstrip(\"\\n\")\n",
    "        product_categorie_zolen.append(a)\n",
    "        \n",
    "        \n",
    "    for row in soup.findAll('div', attrs = {'class' : 'pdp-link'}): \n",
    "        a = row.text\n",
    "        a = a.rstrip(\"\\n\")\n",
    "        a = a.lstrip(\"\\n\")\n",
    "        if a != \"Zolen\":\n",
    "            brand_zolen.append(a)\n",
    "    \n",
    "    link = soup.findAll('div', attrs = {'class' : 'pdp-link brand'})\n",
    "    for row in link:\n",
    "        a = (row.find('a')['href'])\n",
    "        a = getNumbers(a)\n",
    "        ids_zolen.append(a[len(a) - 1])\n",
    "        \n",
    "    \n",
    "\n",
    "    title = soup.findAll('meta',  itemprom=\"analytics\")\n",
    "    for x, i in enumerate(title):\n",
    "        strings = str(title[x])\n",
    "        woord =(strings.split('\"name\":')[1])\n",
    "        woord1 = woord.split(\",\")[0]\n",
    "        woord1 = woord1.lstrip('\" ')\n",
    "        woord1 = woord1.rstrip('\" ')\n",
    "        product_name_zolen.append(woord1)\n",
    "        \n",
    "for a in range(len(prijzen_zolen)):\n",
    "    kleur_zolen.append(\"/\")\n",
    "    \n",
    "tekst_zolen = []\n",
    "paginas = []\n",
    "for x,i in enumerate(ids_zolen):\n",
    "    i = (str(i))\n",
    "    test = \"https://www.torfs.be/nl/dames/accessoires/zolen/famaco-universal-comfort-fresh-zolen-/\" + i + \".html?\"\n",
    "    paginas.append(test)\n",
    "\n",
    "for a in paginas:\n",
    "    response = requests.get(a)\n",
    "    soup = BeautifulSoup(response.content, \"html.parser\")\n",
    "\n",
    "    branding= soup.findAll('span', attrs = {'class' : 'attribute-siteDescription'})\n",
    "    for row in branding:\n",
    "        b = row.text\n",
    "        tekst_zolen.append(b)\n",
    "        \n",
    "tekst_zolen.append(\"Zachte katoenen inlegzool met frisse geur voor aangenaam aanvoelende blote voeten. De bovenkant uit katoen zorgt voor een uitstekende opname van het voetvocht en een aangenaam klimaat in de schoen. De tussenlaag verhindert de vorming van onaangename geurtjes. De onderkant uit zachte latex met geïntegreerde perforaties zorgt voor een optimale verluchting.Deze zolen kunnen enkel besteld worden als je schoenen of een handtas aankoopt.\")"
   ]
  },
  {
   "cell_type": "code",
   "execution_count": 554,
   "metadata": {},
   "outputs": [
    {
     "name": "stdout",
     "output_type": "stream",
     "text": [
      "8\n",
      "8\n",
      "8\n"
     ]
    }
   ],
   "source": [
    "print(len(tekst_zolen))\n",
    "print(len(ids_zolen))\n",
    "print(len(kleur_zolen))"
   ]
  },
  {
   "cell_type": "code",
   "execution_count": 555,
   "metadata": {},
   "outputs": [],
   "source": [
    "shoes_ID.extend(ids_zolen)\n",
    "shoes_brand.extend(brand_zolen)\n",
    "shoes_retailprice.extend(prijzen_zolen)\n",
    "shoes_shoe.extend(product_name_zolen)\n",
    "categorie.extend(product_categorie_zolen)\n",
    "shoes_gender.extend(product_gender_zolen)\n",
    "color.extend(kleur_zolen)\n",
    "img.extend(img_zolen)\n",
    "description.extend(tekst_zolen)"
   ]
  },
  {
   "cell_type": "code",
   "execution_count": null,
   "metadata": {},
   "outputs": [],
   "source": []
  },
  {
   "cell_type": "code",
   "execution_count": 556,
   "metadata": {},
   "outputs": [],
   "source": [
    "riemen = [\"https://www.torfs.be/nl/dames/accessoires/riemen/?cgid=Dames-Accessoires-Riemen&sz=24\", \"https://www.torfs.be/nl/heren/accessoires/riemen/?cgid=Heren-Accessoires-Riemen&sz=24\"]\n",
    "\n",
    "\n",
    "prijzen_riemen=[]\n",
    "product_categorie_riemen = []\n",
    "brand_riemen = []\n",
    "ids_riemen = []\n",
    "product_name_riemen = []\n",
    "product_gender_riemen = []\n",
    "kleur_riemen = []\n",
    "img_riemen = []      \n",
    "for a in riemen:\n",
    "    response = requests.get(a)\n",
    "    soup = BeautifulSoup(response.content, \"html.parser\")  \n",
    "    \n",
    "    afbeeldingen = soup.find_all('img', attrs={'class' : 'tile-image'})\n",
    "    for row in afbeeldingen:\n",
    "        image = row['src']\n",
    "        img_riemen.append(image) \n",
    "        \n",
    "    for row in soup.findAll('span', attrs = {'class':'price__sales false'}): \n",
    "        a = row.span.text\n",
    "        a = a.replace('€','')\n",
    "        a = a.rstrip(\"\\n\")\n",
    "        a = a.lstrip(\"\\n\")\n",
    "        a = a.replace(',', '.')\n",
    "        a = float(a)\n",
    "        prijzen_riemen.append(a)\n",
    "        \n",
    "    productDivs = soup.findAll('div', attrs={'class' : 'pdp-link brand'})\n",
    "    for div in productDivs:\n",
    "        a = (div.find('a')['href'])\n",
    "        a = a.split('nl/')[1]\n",
    "        a = a.split('/')[0]\n",
    "        product_gender_riemen.append(a)\n",
    "\n",
    "        \n",
    "    for row in soup.findAll('div', attrs = {'class' : 'pdp-link brand'}): \n",
    "        a = row.text\n",
    "        a = a.rstrip(\"\\n\")\n",
    "        a = a.lstrip(\"\\n\")\n",
    "        product_categorie_riemen.append(a)\n",
    "\n",
    "    for row in soup.findAll('div', attrs = {'class' : 'pdp-link'}): \n",
    "        a = row.text\n",
    "        a = a.rstrip(\"\\n\")\n",
    "        a = a.lstrip(\"\\n\")\n",
    "        if a != \"Riem\":\n",
    "            brand_riemen.append(a)\n",
    "    \n",
    "    link = soup.findAll('div', attrs = {'class' : 'pdp-link brand'})\n",
    "    for row in link:\n",
    "        a = (row.find('a')['href'])\n",
    "        a = getNumbers(a)\n",
    "        ids_riemen.append(a[len(a) - 1])\n",
    "        \n",
    "    \n",
    "\n",
    "    title = soup.findAll('meta',  itemprom=\"analytics\")\n",
    "    for x, i in enumerate(title):\n",
    "        strings = str(title[x])\n",
    "        woord =(strings.split('\"name\":')[1])\n",
    "        woord1 = woord.split(\",\")[0]\n",
    "        woord1 = woord1.lstrip('\" ')\n",
    "        woord1 = woord1.rstrip('\" ')\n",
    "        product_name_riemen.append(woord1)\n",
    "\n",
    "    k = soup.findAll('span', attrs = {'class' : 'color-checkbox'})\n",
    "    for x, i in enumerate(k):\n",
    "        c = (str(k[x]))\n",
    "        c = c.split(\"--\")\n",
    "        c = c[1].split(\">\")\n",
    "        c = (c[0].replace('\"' ,' '))\n",
    "        kleur_riemen.append(c)\n",
    "\n",
    "tekst_riemen = []\n",
    "paginas = []\n",
    "for x,i in enumerate(ids_riemen):\n",
    "    i = (str(i))\n",
    "    test = \"https://www.torfs.be/nl/dames/accessoires/riemen/tommy-hilfiger-zwarte-omkeerbare-riem-/\" + i + \".html?\"\n",
    "    paginas.append(test)\n",
    "\n",
    "for a in paginas:\n",
    "    response = requests.get(a)\n",
    "    soup = BeautifulSoup(response.content, \"html.parser\")\n",
    "\n",
    "    branding= soup.findAll('span', attrs = {'class' : 'attribute-siteDescription'})\n",
    "    for row in branding:\n",
    "        b = row.text\n",
    "        tekst_riemen.append(b)\n"
   ]
  },
  {
   "cell_type": "code",
   "execution_count": 557,
   "metadata": {},
   "outputs": [
    {
     "name": "stdout",
     "output_type": "stream",
     "text": [
      "2\n",
      "2\n"
     ]
    }
   ],
   "source": [
    "print(len(riemen_schoenverzorging))\n",
    "print(len(kleur_riemen))"
   ]
  },
  {
   "cell_type": "code",
   "execution_count": 558,
   "metadata": {},
   "outputs": [],
   "source": [
    "shoes_ID.extend(ids_riemen)\n",
    "shoes_brand.extend(brand_riemen)\n",
    "shoes_retailprice.extend(prijzen_riemen)\n",
    "shoes_shoe.extend(product_name_riemen)\n",
    "categorie.extend(product_categorie_riemen)\n",
    "shoes_gender.extend(product_gender_riemen)\n",
    "color.extend(kleur_riemen)\n",
    "img.extend(img_riemen)\n",
    "description.extend(tekst_riemen)"
   ]
  },
  {
   "cell_type": "code",
   "execution_count": null,
   "metadata": {},
   "outputs": [],
   "source": []
  },
  {
   "cell_type": "code",
   "execution_count": 559,
   "metadata": {},
   "outputs": [
    {
     "name": "stdout",
     "output_type": "stream",
     "text": [
      "['wit ', 'zwart ', 'cognac ', 'bruin ', 'grijs ', 'blauw ', 'bordeaux ', 'brons ', 'goud ', 'zilver ', 'beige ', 'geel ', 'roze ', 'groen ', 'multi ', 'wit ', 'zwart ', 'bruin ', 'grijs ', 'blauw ', 'geel ', 'multi ', 'wit ', 'zwart ', 'cognac ', 'bruin ', 'grijs ', 'blauw ', 'bordeaux ', 'brons ', 'goud ', 'zilver ', 'beige ', 'geel ', 'roze ', 'groen ', 'multi ', 'wit ', 'zwart ', 'bruin ', 'grijs ', 'blauw ', 'geel ', 'multi ']\n"
     ]
    }
   ],
   "source": [
    "sokken = [\"https://www.torfs.be/nl/dames/accessoires/sokken/?cgid=Dames-Accessoires-Sokken&sz=24\", \"https://www.torfs.be/nl/heren/accessoires/sokken/?cgid=Heren-Accessoires-Sokken&sz=24\"]\n",
    "\n",
    "aantal_sokken_vrouwen = int(getNumbers(\"https://www.torfs.be/nl/dames/accessoires/sokken/?cgid=Dames-Accessoires-Sokken&sz=24\")[0])\n",
    "aantal_sokken_mannen = int(getNumbers(\"https://www.torfs.be/nl/heren/accessoires/sokken/?cgid=Heren-Accessoires-Sokken&sz=24\")[0])\n",
    "\n",
    "prijzen_sokken=[]\n",
    "product_categorie_sokken = []\n",
    "brand_sokken = []\n",
    "ids_sokken = []\n",
    "product_name_sokken = []\n",
    "product_gender_sokken = []\n",
    "kleur_sokken = []\n",
    "kleur_sokken_2 = []\n",
    "lijst = []\n",
    "img_sokken = []\n",
    "\n",
    "for a in sokken:\n",
    "    response = requests.get(a)\n",
    "    soup = BeautifulSoup(response.content, \"html.parser\")  \n",
    "    \n",
    "    for row in soup.findAll('span', attrs = {'class':'price__sales false'}): \n",
    "        a = row.span.text\n",
    "        a = a.replace('€','')\n",
    "        a = a.rstrip(\"\\n\")\n",
    "        a = a.lstrip(\"\\n\")\n",
    "        a = a.replace(',', '.')\n",
    "        a = float(a)\n",
    "        prijzen_sokken.append(a)\n",
    "        \n",
    "  \n",
    "    afbeeldingen = soup.findAll('img', attrs = {'class' : 'tile-image'})\n",
    "    for x, i in enumerate(afbeeldingen):\n",
    "        #print(i)\n",
    "        a = str(afbeeldingen[x])\n",
    "        b = a.split('src=')[1]\n",
    "        b = b.split(' \" title=')[0]\n",
    "        c = b.split('; ')[0]\n",
    "        c = c.split(' ')[0]\n",
    "        c = c.rstrip('\"')\n",
    "        img_sokken.append(c)\n",
    "        \n",
    "    for row in soup.findAll('div', attrs = {'class' : 'pdp-link brand'}): \n",
    "        a = row.text\n",
    "        a = a.rstrip(\"\\n\")\n",
    "        a = a.lstrip(\"\\n\")\n",
    "        product_categorie_sokken.append(a)\n",
    "        \n",
    "        \n",
    "    for row in soup.findAll('div', attrs = {'class' : 'pdp-link'}): \n",
    "        a = row.text\n",
    "        a = a.rstrip(\"\\n\")\n",
    "        a = a.lstrip(\"\\n\")\n",
    "        if a != \"Sokken\" or a != \"Sokken\\n\":\n",
    "            brand_sokken.append(a)\n",
    "    \n",
    "    link = soup.findAll('div', attrs = {'class' : 'pdp-link brand'})\n",
    "    for row in link:\n",
    "        a = (row.find('a')['href'])\n",
    "        a = getNumbers(a)\n",
    "        ids_sokken.append(a[len(a) - 1])\n",
    "        \n",
    "    \n",
    "    test = soup.findAll('img', attrs = {'class' : 'tile-image'})\n",
    "\n",
    "    for x, i in enumerate(test):\n",
    "        a = str(test[x])\n",
    "        b = a.split('alt=')[1]\n",
    "        b = b.split(' \" class')[0]\n",
    "        b = b.lstrip('\" ')\n",
    "        b = b.rstrip('\" ')\n",
    "        product_name_sokken.append(b)\n",
    "    \n",
    "    k = soup.findAll('span', attrs = {'class' : 'color-checkbox'})\n",
    "    for x, i in enumerate(k):\n",
    "        c = (str(k[x]))\n",
    "        c = c.split(\"--\")\n",
    "        c = c[1].split(\">\")\n",
    "        c = (c[0].replace('\"' ,' '))\n",
    "        kleur_sokken.append(c)\n",
    "        \n",
    "    branding = soup.findAll('div', attrs = {'class' : 'content-asset js-seo-content'})\n",
    "\n",
    "    for row in branding:\n",
    "        a1 = row.find('h2').text\n",
    "        a1 = a1.split(' ')[2]\n",
    "        lijst.append(a1)\n",
    "\n",
    "        \n",
    "for x in range(aantal_sokken_vrouwen):\n",
    "    product_gender_sokken.append(lijst[0])\n",
    "for x in range(aantal_sokken_mannen):\n",
    "    product_gender_sokken.append(lijst[1])\n",
    "\n",
    "kleur_sokken_2 = kleur_sokken + kleur_sokken\n",
    "print(kleur_sokken_2)\n",
    "\n",
    "\n",
    "tekst_sokken = []\n",
    "paginas = []\n",
    "for x,i in enumerate(ids_sokken):\n",
    "    i = (str(i))\n",
    "    test = \"https://www.torfs.be/nl/dames/accessoires/sokken/puma-zwarte-sneakersokken---2-paar-/\"+ i + \".html?\"\n",
    "    paginas.append(test)\n",
    "\n",
    "for a in paginas:\n",
    "    response = requests.get(a)\n",
    "    soup = BeautifulSoup(response.content, \"html.parser\")\n",
    "\n",
    "    branding= soup.findAll('span', attrs = {'class' : 'attribute-siteDescription'})\n",
    "    for row in branding:\n",
    "        b = row.text\n",
    "        tekst_sokken.append(b)"
   ]
  },
  {
   "cell_type": "code",
   "execution_count": 560,
   "metadata": {},
   "outputs": [],
   "source": [
    "for x in range(4):\n",
    "    kleur_sokken_2.append('zwart')\n"
   ]
  },
  {
   "cell_type": "code",
   "execution_count": null,
   "metadata": {},
   "outputs": [],
   "source": []
  },
  {
   "cell_type": "code",
   "execution_count": 561,
   "metadata": {},
   "outputs": [
    {
     "name": "stdout",
     "output_type": "stream",
     "text": [
      "2076\n"
     ]
    }
   ],
   "source": [
    "shoes_ID.extend(ids_sokken)\n",
    "shoes_brand.extend(brand_sokken)\n",
    "shoes_retailprice.extend(prijzen_sokken)\n",
    "shoes_shoe.extend(product_name_sokken)\n",
    "categorie.extend(product_categorie_sokken)\n",
    "shoes_gender.extend(product_gender_sokken)\n",
    "color.extend(kleur_sokken_2)\n",
    "img.extend(img_sokken)\n",
    "print(len(categorie))\n",
    "description.extend(tekst_sokken)"
   ]
  },
  {
   "cell_type": "code",
   "execution_count": 562,
   "metadata": {},
   "outputs": [
    {
     "name": "stdout",
     "output_type": "stream",
     "text": [
      "2076\n"
     ]
    }
   ],
   "source": [
    "print(len(description))"
   ]
  },
  {
   "cell_type": "code",
   "execution_count": 563,
   "metadata": {},
   "outputs": [
    {
     "name": "stdout",
     "output_type": "stream",
     "text": [
      "2076\n"
     ]
    }
   ],
   "source": [
    "print(len(shoes_gender))"
   ]
  },
  {
   "cell_type": "code",
   "execution_count": 564,
   "metadata": {},
   "outputs": [],
   "source": [
    "for x,i in enumerate(shoes_brand):\n",
    "    if i == \"Sokken\" or i == \"Enkelsokken\":\n",
    "        shoes_brand.remove(i)\n",
    "\n",
    "\n",
    "for i in range(len(shoes_ID) - len(shoes_name)):\n",
    "    shoes_name.append(\"Nan\")\n",
    "for i in range(len(shoes_ID) - len(shoes_year)):\n",
    "    shoes_year.append(\"2020\")\n",
    "for i in range(len(shoes_ID) - len(shoes_releasedate)):\n",
    "    shoes_releasedate.append(\"2020-01-01\")\n"
   ]
  },
  {
   "cell_type": "code",
   "execution_count": 565,
   "metadata": {},
   "outputs": [],
   "source": [
    "#shoes_brand = shoes_brand[: len(shoes_brand) - 2]"
   ]
  },
  {
   "cell_type": "code",
   "execution_count": 574,
   "metadata": {},
   "outputs": [
    {
     "name": "stdout",
     "output_type": "stream",
     "text": [
      "2076\n",
      "2076\n",
      "2076\n",
      "2076\n",
      "2076\n",
      "2076\n",
      "2076\n",
      "2076\n",
      "2076\n",
      "2076\n"
     ]
    }
   ],
   "source": [
    "print(len(shoes_ID))\n",
    "print(len(shoes_brand))\n",
    "print(len(shoes_gender))\n",
    "print(len(shoes_retailprice))\n",
    "print(len(shoes_shoe))\n",
    "print(len(shoes_name))\n",
    "print(len(shoes_releasedate))\n",
    "print(len(shoes_year))\n",
    "print(len(categorie))\n",
    "print(len(description))\n"
   ]
  },
  {
   "cell_type": "code",
   "execution_count": 575,
   "metadata": {},
   "outputs": [
    {
     "name": "stdout",
     "output_type": "stream",
     "text": [
      "                                        ID           Brand Gender  \\\n",
      "0     7284c344-a8c7-45b1-9b4c-2b4dee450696          Reebok    men   \n",
      "1     7398b2fc-5cc1-426e-af7f-143e6db3a6ed          adidas    men   \n",
      "2     835af9bc-0e82-47b5-83f5-bcd69c901755          adidas  women   \n",
      "3     8731285e-b605-4be9-a6e0-d8e142b82753          adidas    men   \n",
      "4     92c1d0d5-9539-4d6b-a15e-5e1bb6d38458          adidas    men   \n",
      "...                                    ...             ...    ...   \n",
      "2071                                265014          Stance  heren   \n",
      "2072                                282956  Tommy Hilfiger  heren   \n",
      "2073                                283049          Camano  heren   \n",
      "2074                                236969          Stance  heren   \n",
      "2075                                233781          Levi's  heren   \n",
      "\n",
      "      Retail_Price                                        Product  \\\n",
      "0           180.00                          Reebok Instapump Fury   \n",
      "1           180.00                         adidas Ultra Boost DNA   \n",
      "2           140.00                                  adidas NMD R1   \n",
      "3           180.00                         adidas Ultra Boost DNA   \n",
      "4           100.00                             adidas DON Issue 2   \n",
      "...            ...                                            ...   \n",
      "2071         29.95  Stance Foundation Pack Zwarte Sokken - 3 Paar   \n",
      "2072         12.99                   Tommy Hilfiger Bruine Sokken   \n",
      "2073          8.95                  Camano Blauwe Kousen - 2 Paar   \n",
      "2074         19.95                   Stance Iron Man Comic Sokken   \n",
      "2075          8.99                  Levi's Zwarte Kousen - 3 Paar   \n",
      "\n",
      "                                   Name  Year ReleaseDate Product_Category  \\\n",
      "0                   BlackEyePatch White  2020  2020-11-01             shoe   \n",
      "1                  What The Cloud White  2020  2020-11-01             shoe   \n",
      "2     Collegiate Burgundy Glow Pink (W)  2020  2020-11-01             shoe   \n",
      "3                   What The Core Black  2020  2020-11-01             shoe   \n",
      "4                           Purple Gold  2020  2020-11-01             shoe   \n",
      "...                                 ...   ...         ...              ...   \n",
      "2071                                Nan  2020  2020-01-01           Sokken   \n",
      "2072                                Nan  2020  2020-01-01           Sokken   \n",
      "2073                                Nan  2020  2020-01-01           Sokken   \n",
      "2074                                Nan  2020  2020-01-01           Sokken   \n",
      "2075                                Nan  2020  2020-01-01           Sokken   \n",
      "\n",
      "                                            Description  \n",
      "0             Reebok Instapump Fury BlackEyePatch White  \n",
      "1           adidas Ultra Boost DNA What The Cloud White  \n",
      "2       adidas NMD R1 Collegiate Burgundy Glow Pink (W)  \n",
      "3            adidas Ultra Boost DNA What The Core Black  \n",
      "4                        adidas DON Issue 2 Purple Gold  \n",
      "...                                                 ...  \n",
      "2071   Verwen je voeten en kies voor een leuk paar s...  \n",
      "2072   Verwen je voeten en kies voor een leuk paar s...  \n",
      "2073   Verwen je voeten en kies voor een leuk paar s...  \n",
      "2074   Verwen je voeten en kies voor een leuk paar s...  \n",
      "2075   Verwen je voeten en kies voor een leuk paar s...  \n",
      "\n",
      "[2076 rows x 10 columns]\n"
     ]
    }
   ],
   "source": [
    "df = pd.DataFrame({\n",
    "    'ID': shoes_ID,\n",
    "    'Brand': shoes_brand,\n",
    "    'Gender': shoes_gender,\n",
    "    'Retail_Price': shoes_retailprice,\n",
    "    'Product': shoes_shoe,\n",
    "    'Name': shoes_name,\n",
    "    'Year': shoes_year,\n",
    "    'ReleaseDate': shoes_releasedate,\n",
    "    'Product_Category' : categorie, \n",
    "    'Description' : description\n",
    "})\n",
    "print(df)"
   ]
  },
  {
   "cell_type": "code",
   "execution_count": 576,
   "metadata": {},
   "outputs": [],
   "source": [
    "mean = df['Retail_Price'].mean()"
   ]
  },
  {
   "cell_type": "code",
   "execution_count": 577,
   "metadata": {},
   "outputs": [],
   "source": [
    "data_cleaner = [df]\n",
    "for dataset in data_cleaner:    \n",
    "    dataset['Retail_Price'].fillna(dataset['Retail_Price'].mean(), inplace = True)\n",
    "    dataset['Retail_Price'] = dataset['Retail_Price'].replace(0, mean)  \n",
    "    \n",
    "    \n",
    "dataset['Retail_Price'] = dataset['Retail_Price'].round(2)\n"
   ]
  },
  {
   "cell_type": "code",
   "execution_count": 578,
   "metadata": {},
   "outputs": [
    {
     "data": {
      "text/plain": [
       "ID                  0\n",
       "Brand               0\n",
       "Gender              0\n",
       "Retail_Price        0\n",
       "Product             0\n",
       "Name                0\n",
       "Year                0\n",
       "ReleaseDate         0\n",
       "Product_Category    0\n",
       "Description         0\n",
       "dtype: int64"
      ]
     },
     "execution_count": 578,
     "metadata": {},
     "output_type": "execute_result"
    }
   ],
   "source": [
    "df.isnull().sum()"
   ]
  },
  {
   "cell_type": "code",
   "execution_count": 579,
   "metadata": {},
   "outputs": [],
   "source": [
    "df['Sales_Price'] = df.apply(lambda row: row.Retail_Price + (row.Retail_Price * 0.2), axis = 1)\n",
    "df['Sales_Price'] = df['Sales_Price'].round(2)"
   ]
  },
  {
   "cell_type": "code",
   "execution_count": 580,
   "metadata": {},
   "outputs": [
    {
     "name": "stdout",
     "output_type": "stream",
     "text": [
      "                                        ID           Brand Gender  \\\n",
      "0     7284c344-a8c7-45b1-9b4c-2b4dee450696          Reebok    men   \n",
      "1     7398b2fc-5cc1-426e-af7f-143e6db3a6ed          adidas    men   \n",
      "2     835af9bc-0e82-47b5-83f5-bcd69c901755          adidas  women   \n",
      "3     8731285e-b605-4be9-a6e0-d8e142b82753          adidas    men   \n",
      "4     92c1d0d5-9539-4d6b-a15e-5e1bb6d38458          adidas    men   \n",
      "...                                    ...             ...    ...   \n",
      "2071                                265014          Stance  heren   \n",
      "2072                                282956  Tommy Hilfiger  heren   \n",
      "2073                                283049          Camano  heren   \n",
      "2074                                236969          Stance  heren   \n",
      "2075                                233781          Levi's  heren   \n",
      "\n",
      "      Retail_Price                                        Product  \\\n",
      "0           180.00                          Reebok Instapump Fury   \n",
      "1           180.00                         adidas Ultra Boost DNA   \n",
      "2           140.00                                  adidas NMD R1   \n",
      "3           180.00                         adidas Ultra Boost DNA   \n",
      "4           100.00                             adidas DON Issue 2   \n",
      "...            ...                                            ...   \n",
      "2071         29.95  Stance Foundation Pack Zwarte Sokken - 3 Paar   \n",
      "2072         12.99                   Tommy Hilfiger Bruine Sokken   \n",
      "2073          8.95                  Camano Blauwe Kousen - 2 Paar   \n",
      "2074         19.95                   Stance Iron Man Comic Sokken   \n",
      "2075          8.99                  Levi's Zwarte Kousen - 3 Paar   \n",
      "\n",
      "                                   Name  Year ReleaseDate Product_Category  \\\n",
      "0                   BlackEyePatch White  2020  2020-11-01             shoe   \n",
      "1                  What The Cloud White  2020  2020-11-01             shoe   \n",
      "2     Collegiate Burgundy Glow Pink (W)  2020  2020-11-01             shoe   \n",
      "3                   What The Core Black  2020  2020-11-01             shoe   \n",
      "4                           Purple Gold  2020  2020-11-01             shoe   \n",
      "...                                 ...   ...         ...              ...   \n",
      "2071                                Nan  2020  2020-01-01           Sokken   \n",
      "2072                                Nan  2020  2020-01-01           Sokken   \n",
      "2073                                Nan  2020  2020-01-01           Sokken   \n",
      "2074                                Nan  2020  2020-01-01           Sokken   \n",
      "2075                                Nan  2020  2020-01-01           Sokken   \n",
      "\n",
      "                                            Description  Sales_Price  \n",
      "0             Reebok Instapump Fury BlackEyePatch White       216.00  \n",
      "1           adidas Ultra Boost DNA What The Cloud White       216.00  \n",
      "2       adidas NMD R1 Collegiate Burgundy Glow Pink (W)       168.00  \n",
      "3            adidas Ultra Boost DNA What The Core Black       216.00  \n",
      "4                        adidas DON Issue 2 Purple Gold       120.00  \n",
      "...                                                 ...          ...  \n",
      "2071   Verwen je voeten en kies voor een leuk paar s...        35.94  \n",
      "2072   Verwen je voeten en kies voor een leuk paar s...        15.59  \n",
      "2073   Verwen je voeten en kies voor een leuk paar s...        10.74  \n",
      "2074   Verwen je voeten en kies voor een leuk paar s...        23.94  \n",
      "2075   Verwen je voeten en kies voor een leuk paar s...        10.79  \n",
      "\n",
      "[2076 rows x 11 columns]\n"
     ]
    }
   ],
   "source": [
    "print(df)"
   ]
  },
  {
   "cell_type": "code",
   "execution_count": 581,
   "metadata": {},
   "outputs": [],
   "source": [
    "import string \n",
    "import random \n",
    "\n",
    "  \n",
    "N = 7\n",
    "lengte = len(df['ID']) \n",
    "\n",
    "review_ID = []\n",
    "\n",
    "\n",
    "for i in range(lengte):\n",
    "    res = ''.join(random.choices(string.ascii_uppercase +\n",
    "                             string.digits, k = N)) \n",
    "    review_ID.append(res)\n",
    "\n",
    "\n",
    "\n",
    "df['Review_ID'] = review_ID\n"
   ]
  },
  {
   "cell_type": "code",
   "execution_count": 582,
   "metadata": {},
   "outputs": [],
   "source": [
    "from random import *\n",
    "stock = []\n",
    "for i in range(lengte):\n",
    "    x = randint(10,150)\n",
    "    stock.append(x)\n",
    "\n",
    "\n",
    "df['Stock'] = stock"
   ]
  },
  {
   "cell_type": "code",
   "execution_count": 583,
   "metadata": {},
   "outputs": [],
   "source": [
    "gender = df['Gender']\n",
    "size = []\n",
    "for count,ele in enumerate(gender):\n",
    "    if ele == \"men\":\n",
    "        size.insert(count, '38 - 47')\n",
    "    elif ele == \"child\":\n",
    "        size.insert(count, '34 - 37')\n",
    "    elif ele == \"infant\":\n",
    "        size.insert(count, '20 - 26')\n",
    "    elif ele == \"preschool\":\n",
    "        size.insert(count, '27 - 30')\n",
    "    elif ele == \"toddler\":\n",
    "        size.insert(count, '31 - 34')\n",
    "    elif ele == \"women\":\n",
    "        size.insert(count, '34 - 45')\n",
    "    else:\n",
    "        size.insert(count, '1 size')\n",
    "\n"
   ]
  },
  {
   "cell_type": "code",
   "execution_count": 584,
   "metadata": {},
   "outputs": [],
   "source": [
    "df['Size'] = size"
   ]
  },
  {
   "cell_type": "code",
   "execution_count": 585,
   "metadata": {},
   "outputs": [],
   "source": [
    "category_id = []\n",
    "for x,i in enumerate((df['Product_Category'])):\n",
    "    if i == 'shoe':\n",
    "        category_id.append(\"S332167850164114\")\n",
    "    elif i == 'Schoenverzorging':  \n",
    "        category_id.append(\"S332789501641287\")\n",
    "    elif i == 'Zolen'  :\n",
    "        category_id.append(\"Z486824285647812\")\n",
    "    elif i == 'Riem'  :\n",
    "        category_id.append(\"R486154872548563\")\n",
    "    elif i == 'Sokken'  :\n",
    "        category_id.append(\"S154687234121457\") \n",
    "    elif i == 'Enkelsokken' : \n",
    "        category_id.append(\"E154548552657254\")   \n",
    "    else:\n",
    "        category_id.append(\"/\")\n",
    "df['Category_ID'] = category_id"
   ]
  },
  {
   "cell_type": "code",
   "execution_count": 586,
   "metadata": {},
   "outputs": [
    {
     "name": "stdout",
     "output_type": "stream",
     "text": [
      "2076\n",
      "2076\n"
     ]
    }
   ],
   "source": [
    "print(len(color))\n",
    "print(len(category_id))"
   ]
  },
  {
   "cell_type": "code",
   "execution_count": 604,
   "metadata": {},
   "outputs": [
    {
     "name": "stdout",
     "output_type": "stream",
     "text": [
      "2076\n"
     ]
    }
   ],
   "source": []
  },
  {
   "cell_type": "code",
   "execution_count": 587,
   "metadata": {},
   "outputs": [
    {
     "name": "stdout",
     "output_type": "stream",
     "text": [
      "2076\n"
     ]
    }
   ],
   "source": [
    "df['Color'] = color\n",
    "print(len(color))"
   ]
  },
  {
   "cell_type": "code",
   "execution_count": 600,
   "metadata": {},
   "outputs": [
    {
     "name": "stdout",
     "output_type": "stream",
     "text": [
      "2076\n"
     ]
    }
   ],
   "source": [
    "import random\n",
    "Popular = []\n",
    "lengte = len(df['ID'])\n",
    "print(lengte)\n",
    "for i in range(0,lengte):\n",
    "    n = random.randint(1,5)\n",
    "    Popular.append(n)\n",
    "\n",
    "df['Popular'] = Popular"
   ]
  },
  {
   "cell_type": "code",
   "execution_count": 610,
   "metadata": {},
   "outputs": [],
   "source": [
    "df['Image_url'] = img"
   ]
  },
  {
   "cell_type": "code",
   "execution_count": 611,
   "metadata": {},
   "outputs": [
    {
     "name": "stdout",
     "output_type": "stream",
     "text": [
      "                                        ID           Brand Gender  \\\n",
      "0     7284c344-a8c7-45b1-9b4c-2b4dee450696          Reebok    men   \n",
      "1     7398b2fc-5cc1-426e-af7f-143e6db3a6ed          adidas    men   \n",
      "2     835af9bc-0e82-47b5-83f5-bcd69c901755          adidas  women   \n",
      "3     8731285e-b605-4be9-a6e0-d8e142b82753          adidas    men   \n",
      "4     92c1d0d5-9539-4d6b-a15e-5e1bb6d38458          adidas    men   \n",
      "...                                    ...             ...    ...   \n",
      "2071                                265014          Stance  heren   \n",
      "2072                                282956  Tommy Hilfiger  heren   \n",
      "2073                                283049          Camano  heren   \n",
      "2074                                236969          Stance  heren   \n",
      "2075                                233781          Levi's  heren   \n",
      "\n",
      "      Retail_Price                                        Product  \\\n",
      "0           180.00                          Reebok Instapump Fury   \n",
      "1           180.00                         adidas Ultra Boost DNA   \n",
      "2           140.00                                  adidas NMD R1   \n",
      "3           180.00                         adidas Ultra Boost DNA   \n",
      "4           100.00                             adidas DON Issue 2   \n",
      "...            ...                                            ...   \n",
      "2071         29.95  Stance Foundation Pack Zwarte Sokken - 3 Paar   \n",
      "2072         12.99                   Tommy Hilfiger Bruine Sokken   \n",
      "2073          8.95                  Camano Blauwe Kousen - 2 Paar   \n",
      "2074         19.95                   Stance Iron Man Comic Sokken   \n",
      "2075          8.99                  Levi's Zwarte Kousen - 3 Paar   \n",
      "\n",
      "                                   Name  Year ReleaseDate Product_Category  \\\n",
      "0                   BlackEyePatch White  2020  2020-11-01             shoe   \n",
      "1                  What The Cloud White  2020  2020-11-01             shoe   \n",
      "2     Collegiate Burgundy Glow Pink (W)  2020  2020-11-01             shoe   \n",
      "3                   What The Core Black  2020  2020-11-01             shoe   \n",
      "4                           Purple Gold  2020  2020-11-01             shoe   \n",
      "...                                 ...   ...         ...              ...   \n",
      "2071                                Nan  2020  2020-01-01           Sokken   \n",
      "2072                                Nan  2020  2020-01-01           Sokken   \n",
      "2073                                Nan  2020  2020-01-01           Sokken   \n",
      "2074                                Nan  2020  2020-01-01           Sokken   \n",
      "2075                                Nan  2020  2020-01-01           Sokken   \n",
      "\n",
      "                                            Description  Sales_Price  \\\n",
      "0             Reebok Instapump Fury BlackEyePatch White       216.00   \n",
      "1           adidas Ultra Boost DNA What The Cloud White       216.00   \n",
      "2       adidas NMD R1 Collegiate Burgundy Glow Pink (W)       168.00   \n",
      "3            adidas Ultra Boost DNA What The Core Black       216.00   \n",
      "4                        adidas DON Issue 2 Purple Gold       120.00   \n",
      "...                                                 ...          ...   \n",
      "2071   Verwen je voeten en kies voor een leuk paar s...        35.94   \n",
      "2072   Verwen je voeten en kies voor een leuk paar s...        15.59   \n",
      "2073   Verwen je voeten en kies voor een leuk paar s...        10.74   \n",
      "2074   Verwen je voeten en kies voor een leuk paar s...        23.94   \n",
      "2075   Verwen je voeten en kies voor een leuk paar s...        10.79   \n",
      "\n",
      "     Review_ID  Stock     Size       Category_ID  \\\n",
      "0      18NHB7T     91  38 - 47  S332167850164114   \n",
      "1      6ZHHT21     10  38 - 47  S332167850164114   \n",
      "2      611VDU3     20  34 - 45  S332167850164114   \n",
      "3      4K1Y8VT    110  38 - 47  S332167850164114   \n",
      "4      P9WYAHN    127  38 - 47  S332167850164114   \n",
      "...        ...    ...      ...               ...   \n",
      "2071   KMEO5O6    136   1 size  S154687234121457   \n",
      "2072   R7RC6NS     90   1 size  S154687234121457   \n",
      "2073   6EMVXYF    123   1 size  S154687234121457   \n",
      "2074   BOHTKAM    133   1 size  S154687234121457   \n",
      "2075   WVPGLS2     91   1 size  S154687234121457   \n",
      "\n",
      "                                                  Color  Popular  \\\n",
      "0                                     White/White-Black        5   \n",
      "1                      Core Black/Solar Red/Cloud White        4   \n",
      "2                  Glow Pink/Collegiate Burgundy/Maroon        5   \n",
      "3                      Core Black/Cloud White/Solar Red        4   \n",
      "4     Team Collegiate Purple/Team Collegiate Gold/Te...        5   \n",
      "...                                                 ...      ...   \n",
      "2071                                             multi         1   \n",
      "2072                                              zwart        4   \n",
      "2073                                              zwart        3   \n",
      "2074                                              zwart        4   \n",
      "2075                                              zwart        1   \n",
      "\n",
      "                                              Image_url  \n",
      "0     https://stockx.imgix.net/Reebok-Instapump-Fury...  \n",
      "1     https://stockx.imgix.net/adidas-Ultra-Boost-DN...  \n",
      "2     https://stockx.imgix.net/adidas-NMD-R1-Collegi...  \n",
      "3     https://stockx.imgix.net/adidas-Ultra-Boost-DN...  \n",
      "4     https://stockx.imgix.net/adidas-DON-Issue-2-Pu...  \n",
      "...                                                 ...  \n",
      "2071  https://www.torfs.be/dw/image/v2/BCQR_PRD/on/d...  \n",
      "2072  https://www.torfs.be/dw/image/v2/BCQR_PRD/on/d...  \n",
      "2073  https://www.torfs.be/dw/image/v2/BCQR_PRD/on/d...  \n",
      "2074  https://www.torfs.be/dw/image/v2/BCQR_PRD/on/d...  \n",
      "2075  https://www.torfs.be/dw/image/v2/BCQR_PRD/on/d...  \n",
      "\n",
      "[2076 rows x 18 columns]\n"
     ]
    }
   ],
   "source": [
    "print(df)"
   ]
  },
  {
   "cell_type": "code",
   "execution_count": 612,
   "metadata": {},
   "outputs": [],
   "source": [
    "df.to_csv('product_database.csv', index = False, header=True)"
   ]
  },
  {
   "cell_type": "code",
   "execution_count": null,
   "metadata": {},
   "outputs": [],
   "source": []
  },
  {
   "cell_type": "code",
   "execution_count": null,
   "metadata": {},
   "outputs": [],
   "source": []
  },
  {
   "cell_type": "code",
   "execution_count": null,
   "metadata": {},
   "outputs": [],
   "source": []
  },
  {
   "cell_type": "code",
   "execution_count": null,
   "metadata": {},
   "outputs": [],
   "source": [
    " "
   ]
  },
  {
   "cell_type": "code",
   "execution_count": null,
   "metadata": {},
   "outputs": [],
   "source": []
  }
 ],
 "metadata": {
  "kernelspec": {
   "display_name": "Python 3",
   "language": "python",
   "name": "python3"
  },
  "language_info": {
   "codemirror_mode": {
    "name": "ipython",
    "version": 3
   },
   "file_extension": ".py",
   "mimetype": "text/x-python",
   "name": "python",
   "nbconvert_exporter": "python",
   "pygments_lexer": "ipython3",
   "version": "3.7.4"
  }
 },
 "nbformat": 4,
 "nbformat_minor": 2
}
