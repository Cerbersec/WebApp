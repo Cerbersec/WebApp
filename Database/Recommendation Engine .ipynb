{
 "cells": [
  {
   "cell_type": "markdown",
   "metadata": {},
   "source": [
    "https://www.datacamp.com/community/tutorials/recommender-systems-python"
   ]
  },
  {
   "cell_type": "code",
   "execution_count": 1,
   "metadata": {},
   "outputs": [],
   "source": [
    "import pandas as pd\n",
    "from sklearn.metrics.pairwise import cosine_similarity\n",
    "import random\n",
    "\n",
    "data = pd.read_csv(\"SQL_data.csv\", encoding= 'unicode_escape')"
   ]
  },
  {
   "cell_type": "code",
   "execution_count": 2,
   "metadata": {},
   "outputs": [],
   "source": [
    "total_reviews = []\n",
    "for x in range(len(data['product_id'])):\n",
    "    a = (random.randint(1,200))\n",
    "    total_reviews.append(a)\n",
    "    \n",
    "data['Total_reviews'] = total_reviews\n",
    "\n",
    "C = data['popular'].mean()\n",
    "\n",
    "m = data['Total_reviews'].quantile(0.90)\n",
    "\n",
    "reviews = data.copy().loc[data['Total_reviews'] >= m]"
   ]
  },
  {
   "cell_type": "code",
   "execution_count": 3,
   "metadata": {},
   "outputs": [],
   "source": [
    "def weighted_rating(x, m=m, C=C):\n",
    "    v = x['popular']\n",
    "    R = x['Total_reviews']\n",
    "    # Calculation based on the IMDB formula\n",
    "    return (v/(v+m) * R) + (m/(m+v) * C)"
   ]
  },
  {
   "cell_type": "code",
   "execution_count": 4,
   "metadata": {},
   "outputs": [],
   "source": [
    "data['score'] = data.apply(weighted_rating, axis=1)"
   ]
  },
  {
   "cell_type": "code",
   "execution_count": 5,
   "metadata": {},
   "outputs": [
    {
     "data": {
      "text/html": [
       "<div>\n",
       "<style scoped>\n",
       "    .dataframe tbody tr th:only-of-type {\n",
       "        vertical-align: middle;\n",
       "    }\n",
       "\n",
       "    .dataframe tbody tr th {\n",
       "        vertical-align: top;\n",
       "    }\n",
       "\n",
       "    .dataframe thead th {\n",
       "        text-align: right;\n",
       "    }\n",
       "</style>\n",
       "<table border=\"1\" class=\"dataframe\">\n",
       "  <thead>\n",
       "    <tr style=\"text-align: right;\">\n",
       "      <th></th>\n",
       "      <th>product_id</th>\n",
       "      <th>popular</th>\n",
       "      <th>Total_reviews</th>\n",
       "      <th>score</th>\n",
       "    </tr>\n",
       "  </thead>\n",
       "  <tbody>\n",
       "    <tr>\n",
       "      <td>1900</td>\n",
       "      <td>1901</td>\n",
       "      <td>5</td>\n",
       "      <td>200</td>\n",
       "      <td>8.298569</td>\n",
       "    </tr>\n",
       "    <tr>\n",
       "      <td>1258</td>\n",
       "      <td>1259</td>\n",
       "      <td>5</td>\n",
       "      <td>200</td>\n",
       "      <td>8.298569</td>\n",
       "    </tr>\n",
       "    <tr>\n",
       "      <td>2730</td>\n",
       "      <td>2731</td>\n",
       "      <td>5</td>\n",
       "      <td>200</td>\n",
       "      <td>8.298569</td>\n",
       "    </tr>\n",
       "    <tr>\n",
       "      <td>2700</td>\n",
       "      <td>2701</td>\n",
       "      <td>5</td>\n",
       "      <td>200</td>\n",
       "      <td>8.298569</td>\n",
       "    </tr>\n",
       "    <tr>\n",
       "      <td>1289</td>\n",
       "      <td>1290</td>\n",
       "      <td>5</td>\n",
       "      <td>200</td>\n",
       "      <td>8.298569</td>\n",
       "    </tr>\n",
       "    <tr>\n",
       "      <td>1693</td>\n",
       "      <td>1694</td>\n",
       "      <td>5</td>\n",
       "      <td>199</td>\n",
       "      <td>8.271831</td>\n",
       "    </tr>\n",
       "    <tr>\n",
       "      <td>2699</td>\n",
       "      <td>2700</td>\n",
       "      <td>5</td>\n",
       "      <td>199</td>\n",
       "      <td>8.271831</td>\n",
       "    </tr>\n",
       "    <tr>\n",
       "      <td>1355</td>\n",
       "      <td>1356</td>\n",
       "      <td>5</td>\n",
       "      <td>199</td>\n",
       "      <td>8.271831</td>\n",
       "    </tr>\n",
       "    <tr>\n",
       "      <td>3377</td>\n",
       "      <td>3378</td>\n",
       "      <td>5</td>\n",
       "      <td>199</td>\n",
       "      <td>8.271831</td>\n",
       "    </tr>\n",
       "    <tr>\n",
       "      <td>2769</td>\n",
       "      <td>2770</td>\n",
       "      <td>5</td>\n",
       "      <td>198</td>\n",
       "      <td>8.245093</td>\n",
       "    </tr>\n",
       "  </tbody>\n",
       "</table>\n",
       "</div>"
      ],
      "text/plain": [
       "      product_id  popular  Total_reviews     score\n",
       "1900        1901        5            200  8.298569\n",
       "1258        1259        5            200  8.298569\n",
       "2730        2731        5            200  8.298569\n",
       "2700        2701        5            200  8.298569\n",
       "1289        1290        5            200  8.298569\n",
       "1693        1694        5            199  8.271831\n",
       "2699        2700        5            199  8.271831\n",
       "1355        1356        5            199  8.271831\n",
       "3377        3378        5            199  8.271831\n",
       "2769        2770        5            198  8.245093"
      ]
     },
     "execution_count": 5,
     "metadata": {},
     "output_type": "execute_result"
    }
   ],
   "source": [
    "#Sort products based on score calculated above\n",
    "data = data.sort_values('score', ascending=False)\n",
    "\n",
    "#Print the top 15 products\n",
    "data[['product_id', 'popular', 'Total_reviews', 'score']].head(10)"
   ]
  },
  {
   "cell_type": "code",
   "execution_count": 6,
   "metadata": {},
   "outputs": [
    {
     "data": {
      "text/plain": [
       "(3651, 687)"
      ]
     },
     "execution_count": 6,
     "metadata": {},
     "output_type": "execute_result"
    }
   ],
   "source": [
    "from sklearn.feature_extraction.text import TfidfVectorizer\n",
    "\n",
    "#Remove all english stop words such as 'the', 'a'\n",
    "tfidf = TfidfVectorizer(stop_words='english')\n",
    "\n",
    "#Replace NaN with an empty string\n",
    "data['name'] = data['name'].fillna('')\n",
    "\n",
    "#Construct the required TF-IDF matrix by fitting and transforming the data\n",
    "tfidf_matrix = tfidf.fit_transform(data['name'])\n",
    "\n",
    "#Output the shape of tfidf_matrix\n",
    "tfidf_matrix.shape"
   ]
  },
  {
   "cell_type": "code",
   "execution_count": 7,
   "metadata": {},
   "outputs": [],
   "source": [
    "# Import linear_kernel\n",
    "from sklearn.metrics.pairwise import linear_kernel\n",
    "\n",
    "# Compute the cosine similarity matrix\n",
    "cosine_sim = linear_kernel(tfidf_matrix, tfidf_matrix)"
   ]
  },
  {
   "cell_type": "code",
   "execution_count": 8,
   "metadata": {},
   "outputs": [],
   "source": [
    "indices = pd.Series(data.index, index=data['product_id']).drop_duplicates()"
   ]
  },
  {
   "cell_type": "code",
   "execution_count": 9,
   "metadata": {},
   "outputs": [],
   "source": [
    "def get_recommendations(title, cosine_sim=cosine_sim):\n",
    "    # Get the index of the product that matches the title\n",
    "    idx = indices[title]\n",
    "\n",
    "    # Get the pairwsie similarity scores of all products with that movie\n",
    "    sim_scores = list(enumerate(cosine_sim[idx]))\n",
    "\n",
    "    # Sort the products based on the similarity scores\n",
    "    sim_scores = sorted(sim_scores, key=lambda x: x[1], reverse=True)\n",
    "\n",
    "    # Get the scores of the 3 most similar products\n",
    "    sim_scores = sim_scores[0:3]\n",
    "\n",
    "    # Get the product indices\n",
    "    movie_indices = [i[0] for i in sim_scores]\n",
    "\n",
    "    # Return the top 3 most similar products\n",
    "    return data['product_id'].iloc[movie_indices]"
   ]
  },
  {
   "cell_type": "code",
   "execution_count": 10,
   "metadata": {},
   "outputs": [],
   "source": [
    "aantal_recommendations = 3"
   ]
  },
  {
   "cell_type": "code",
   "execution_count": 11,
   "metadata": {},
   "outputs": [],
   "source": [
    "recommendations = []\n",
    "productid = []\n",
    "for x,i in enumerate(data['product_id']):\n",
    "    a = get_recommendations(i)\n",
    "    a = a.to_numpy()\n",
    "    for z, w in enumerate(a):\n",
    "        recommendations.append(a[z])\n",
    "    b = x + 1\n",
    "    for y in range(aantal_recommendations):\n",
    "        productid.append(b)\n",
    "    #recommendations.append(a)"
   ]
  },
  {
   "cell_type": "code",
   "execution_count": 15,
   "metadata": {},
   "outputs": [
    {
     "name": "stdout",
     "output_type": "stream",
     "text": [
      "       Product_id  Recommendation_id\n",
      "0               1               2309\n",
      "1               1               3526\n",
      "2               1               3427\n",
      "3               2               1262\n",
      "4               2               2479\n",
      "...           ...                ...\n",
      "10948        3650               1696\n",
      "10949        3650                479\n",
      "10950        3651               1441\n",
      "10951        3651                224\n",
      "10952        3651               2659\n",
      "\n",
      "[10953 rows x 2 columns]\n"
     ]
    }
   ],
   "source": [
    "dataframe = pd.DataFrame({\n",
    "\n",
    "    'Product_id': productid,\n",
    "    'Recommendation_id': recommendations\n",
    "\n",
    "})\n",
    "print(dataframe)"
   ]
  },
  {
   "cell_type": "code",
   "execution_count": 16,
   "metadata": {},
   "outputs": [],
   "source": [
    "dataframe.to_csv('recommendation_enginge.csv', index = False, header=True)"
   ]
  },
  {
   "cell_type": "code",
   "execution_count": null,
   "metadata": {},
   "outputs": [],
   "source": []
  }
 ],
 "metadata": {
  "kernelspec": {
   "display_name": "Python 3",
   "language": "python",
   "name": "python3"
  },
  "language_info": {
   "codemirror_mode": {
    "name": "ipython",
    "version": 3
   },
   "file_extension": ".py",
   "mimetype": "text/x-python",
   "name": "python",
   "nbconvert_exporter": "python",
   "pygments_lexer": "ipython3",
   "version": "3.7.4"
  }
 },
 "nbformat": 4,
 "nbformat_minor": 2
}
