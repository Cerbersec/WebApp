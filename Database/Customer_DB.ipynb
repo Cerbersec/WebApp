{
 "cells": [
  {
   "cell_type": "code",
   "execution_count": 16,
   "metadata": {},
   "outputs": [
    {
     "name": "stdout",
     "output_type": "stream",
     "text": [
      "Requirement already satisfied: names in c:\\users\\smeet\\anaconda3\\lib\\site-packages (0.3.0)\n",
      "Note: you may need to restart the kernel to use updated packages.\n"
     ]
    },
    {
     "name": "stderr",
     "output_type": "stream",
     "text": [
      "WARNING: You are using pip version 20.2.3; however, version 20.2.4 is available.\n",
      "You should consider upgrading via the 'C:\\Users\\smeet\\Anaconda3\\python.exe -m pip install --upgrade pip' command.\n"
     ]
    },
    {
     "name": "stdout",
     "output_type": "stream",
     "text": [
      "Requirement already satisfied: Faker in c:\\users\\smeet\\anaconda3\\lib\\site-packages (4.14.0)\n",
      "Requirement already satisfied: python-dateutil>=2.4 in c:\\users\\smeet\\anaconda3\\lib\\site-packages (from Faker) (2.8.0)\n",
      "Requirement already satisfied: text-unidecode==1.3 in c:\\users\\smeet\\anaconda3\\lib\\site-packages (from Faker) (1.3)\n",
      "Requirement already satisfied: six>=1.5 in c:\\users\\smeet\\anaconda3\\lib\\site-packages (from python-dateutil>=2.4->Faker) (1.12.0)\n",
      "Note: you may need to restart the kernel to use updated packages.\n"
     ]
    },
    {
     "name": "stderr",
     "output_type": "stream",
     "text": [
      "WARNING: You are using pip version 20.2.3; however, version 20.2.4 is available.\n",
      "You should consider upgrading via the 'C:\\Users\\smeet\\Anaconda3\\python.exe -m pip install --upgrade pip' command.\n"
     ]
    }
   ],
   "source": [
    "%pip install names\n",
    "%pip install Faker\n",
    "from faker import Faker\n",
    "import random\n",
    "import os\n",
    "import hashlib\n",
    "import string\n",
    "import pandas as pd"
   ]
  },
  {
   "cell_type": "code",
   "execution_count": 59,
   "metadata": {},
   "outputs": [],
   "source": [
    "customer_ID = []\n",
    "first_name = []\n",
    "last_name = []\n",
    "email_address = []\n",
    "address = []\n",
    "postcode = []\n",
    "stad = []\n",
    "land = []\n",
    "phone = []\n",
    "usernames = []\n",
    "password = []\n",
    "geslacht = []\n",
    "bus_nr = []"
   ]
  },
  {
   "cell_type": "code",
   "execution_count": 60,
   "metadata": {},
   "outputs": [],
   "source": [
    "mannen_namen = [\"Adrien\",\"Alexander\",\"Alexandre\",\"Alexis\",\"Anthony\",\"Antoine\",\"Arnaud\",\"Arne\",\"Arno\",\"Arthur\",\"Axel\",\"Benjamin\",\"Bram\",\"Brent\",\"Bryan\",\"Clément\",\"Corentin\",\"Cyril\",\"Cédric\",\"Daan\",\"David\",\"Dorian\",\"Dries\",\"Dylan\",\"Elias\",\"Florian\",\"Gilles\",\"Guillaume\",\"Hugo\",\"Jarne\",\"Jason\",\"Jasper\",\"Jens\",\"Jonas\",\"Jonathan\",\"Jordan\",\"Jordy\",\"Julien\",\"Justin\",\"Jérémy\",\"Kevin\",\"Kobe\",\"Lars\",\"Lennert\",\"Liam\",\"Logan\",\"Louis\",\"Loïc\",\"Luca\",\"Lucas\",\"Lukas\",\"Maarten\",\"Martin\",\"Mathias\",\"Mathieu\",\"Matthias\",\"Maxim\",\"Maxime\",\"Mehdi\",\"Michiel\",\"Milan\",\"Mohamed\",\"Nathan\",\"Nick\",\"Nicolas\",\"Niels\",\"Noah\",\"Olivier\",\"Pierre\",\"Pieter\",\"Quentin\",\"Quinten\",\"Robbe\",\"Robin\",\"Romain\",\"Ruben\",\"Ryan\",\"Sam\",\"Samuel\",\"Sander\",\"Seppe\",\"Simon\",\"Stef\",\"Stijn\",\"Sébastien\",\"Thibault\",\"Thibaut\",\"Thomas\",\"Théo\",\"Tibo\",\"Tim\",\"Tom\",\"Tristan\",\"Valentin\",\"Victor\",\"Vincent\",\"Ward\",\"William\",\"Wout\",\"Yannick\"]\n",
    "vrouwen_namen = [\"Alexandra\",\"Alexia\",\"Alice\",\"Alicia\",\"Aline\",\"Amandine\",\"Amber\",\"Amélie\",\"Anaïs\",\"Anke\",\"Anna\",\"Anouk\",\"Audrey\",\"Aurélie\",\"Axelle\",\"Bo\",\"Britt\",\"Camille\",\"Caro\",\"Caroline\",\"Charlotte\",\"Chiara\",\"Chloé\",\"Chloë\",\"Clara\",\"Célia\",\"Céline\",\"Delphine\",\"Eline\",\"Elisa\",\"Elise\",\"Ellen\",\"Elodie\",\"Emilie\",\"Emma\",\"Estelle\",\"Eva\",\"Fanny\",\"Febe\",\"Femke\",\"Fien\",\"Fiona\",\"Fleur\",\"Florence\",\"Hannah\",\"Hanne\",\"Imane\",\"Ine\",\"Ines\",\"Inès\",\"Jade\",\"Jana\",\"Jessica\",\"Jolien\",\"Julie\",\"Juliette\",\"Justine\",\"Kaat\",\"Kato\",\"Kelly\",\"Lara\",\"Laura\",\"Laure\",\"Lauren\",\"Lien\",\"Lies\",\"Lisa\",\"Lise\",\"Lore\",\"Lotte\",\"Louise\",\"Lucie\",\"Luna\",\"Léa\",\"Manon\",\"Margaux\",\"Margot\",\"Marie\",\"Marine\",\"Marthe\",\"Melissa\",\"Morgane\",\"Mélanie\",\"Nina\",\"Noa\",\"Noémie\",\"Océane\",\"Ophélie\",\"Pauline\",\"Rania\",\"Sara\",\"Sarah\",\"Silke\",\"Sofie\",\"Sophie\",\"Valentine\",\"Victoria\",\"Yana\",\"Yasmine\",\"Zoé\",\"Zoë\"]\n",
    "familienamen = [\"Adam\",\"Aerts\",\"Baert\",\"Bauwens\",\"Beckers\",\"Bertrand\",\"Bogaert\",\"Bogaerts\",\"Bosmans\",\"Carlier\",\"Charlier\",\"Christiaens\",\"Claes\",\"Claessens\",\"Claeys\",\"Cools\",\"Coppens\",\"Cornelis\",\"De Backer\",\"De Clercq\",\"De Cock\",\"De Meyer\",\"De Pauw\",\"De Ridder\",\"De Smedt\",\"De Smet\",\"De Vos\",\"De Wilde\",\"Declercq\",\"Denis\",\"Deprez\",\"Desmet\",\"Devos\",\"Dubois\",\"Dumont\",\"Dupont\",\"Evrard\",\"Fontaine\",\"François\",\"Geerts\",\"Goossens\",\"Gérard\",\"Hendrickx\",\"Hermans\",\"Jacobs\",\"Jansen\",\"Janssen\",\"Janssens\",\"Lambert\",\"Lambrechts\",\"Laurent\",\"Lauwers\",\"Leclercq\",\"Lejeune\",\"Lemaire\",\"Lemmens\",\"Lenaerts\",\"Leroy\",\"Maes\",\"Martens\",\"Martin\",\"Mathieu\",\"Mertens\",\"Michel\",\"Michiels\",\"Moens\",\"Noël\",\"Pauwels\",\"Peeters\",\"Petit\",\"Pieters\",\"Renard\",\"Segers\",\"Simon\",\"Simons\",\"Smet\",\"Smets\",\"Stevens\",\"Thomas\",\"Thys\",\"Timmermans\",\"Van Damme\",\"Van De Velde\",\"Van Den Broeck\",\"Van Dyck\",\"Vandenberghe\",\"Verbeke\",\"Verheyen\",\"Verhoeven\",\"Verlinden\",\"Vermeersch\",\"Vermeiren\",\"Vermeulen\",\"Verschueren\",\"Verstraete\",\"Verstraeten\",\"Wauters\",\"Willems\",\"Wouters\",\"Wuyts\"]\n",
    "\n",
    "for x in range(100):\n",
    "    naam_man = random.choice(mannen_namen)\n",
    "    first_name.append(naam_man)\n",
    "    geslacht.append(\"Male\")\n",
    "    naam_vrouw = random.choice(vrouwen_namen)\n",
    "    first_name.append(naam_vrouw)\n",
    "    geslacht.append(\"Female\")\n",
    "    \n",
    "\n",
    "for x in range(200):\n",
    "    familie_naam = random.choice(familienamen)\n",
    "    last_name.append(familie_naam)"
   ]
  },
  {
   "cell_type": "code",
   "execution_count": 61,
   "metadata": {},
   "outputs": [],
   "source": [
    "#print(first_name)\n",
    "#print(last_name)"
   ]
  },
  {
   "cell_type": "code",
   "execution_count": 62,
   "metadata": {},
   "outputs": [
    {
     "name": "stdout",
     "output_type": "stream",
     "text": [
      "200\n"
     ]
    }
   ],
   "source": [
    "domeinen = [\"@hotmail.com\",\"@gmail.com\",\"@telenet.com\",\"@zoho.com\",\"@outlook.com\",\"@yahoo.com\",\"@icloud.com\"]\n",
    "lengte = len(first_name)\n",
    "print(lengte)\n",
    "for x in range(lengte):\n",
    "    email = (first_name[x] + \".\"+ last_name[x]+ random.choice(domeinen))\n",
    "    email = email.replace(\" \",\"\")\n",
    "    email_address.append(email)\n",
    "    bus_nr.append('None')\n",
    "    \n",
    "#print((email_address))"
   ]
  },
  {
   "cell_type": "code",
   "execution_count": 63,
   "metadata": {},
   "outputs": [],
   "source": [
    "fake = Faker('nl_BE')\n",
    "lengte = len(first_name)\n",
    "for _ in range(lengte):\n",
    "    ids = fake.msisdn()\n",
    "    adr = fake.street_address()\n",
    "    pos = fake.postcode()\n",
    "    cit = fake.city()\n",
    "    customer_ID.append(ids)\n",
    "    address.append(adr)\n",
    "    postcode.append(pos)\n",
    "    stad.append(cit)\n",
    "    land.append('Belgium')\n",
    "    tel = fake.phone_number()\n",
    "    phone.append(tel)\n"
   ]
  },
  {
   "cell_type": "code",
   "execution_count": 64,
   "metadata": {},
   "outputs": [],
   "source": [
    "#print(customer_ID)"
   ]
  },
  {
   "cell_type": "code",
   "execution_count": 65,
   "metadata": {},
   "outputs": [],
   "source": [
    "for x in range(len(first_name)):\n",
    "    user = first_name[x] + str(random.randint(10,200))\n",
    "    usernames.append(user)\n",
    "    "
   ]
  },
  {
   "cell_type": "code",
   "execution_count": 66,
   "metadata": {},
   "outputs": [],
   "source": [
    "#print(usernames)"
   ]
  },
  {
   "cell_type": "code",
   "execution_count": 67,
   "metadata": {},
   "outputs": [],
   "source": [
    "def get_random_password_string(length):\n",
    "    password_characters = string.ascii_letters + string.digits + string.punctuation\n",
    "    password = ''.join(random.choice(password_characters) for i in range(length))\n",
    "    return password\n",
    "\n"
   ]
  },
  {
   "cell_type": "code",
   "execution_count": 68,
   "metadata": {},
   "outputs": [],
   "source": [
    "paswoorden_not_hashed = []\n",
    "for x in range(len(first_name)):\n",
    "    pas = get_random_password_string(10)\n",
    "    paswoorden_not_hashed.append(pas)"
   ]
  },
  {
   "cell_type": "code",
   "execution_count": 69,
   "metadata": {},
   "outputs": [
    {
     "name": "stdout",
     "output_type": "stream",
     "text": [
      "200\n"
     ]
    }
   ],
   "source": [
    "import hashlib\n",
    "import os\n",
    "\n",
    "salt = os.urandom(32) # Remember this\n",
    "\n",
    "paswoorden_hashed = []\n",
    "for i in range(len(paswoorden_not_hashed)):\n",
    "    key = hashlib.pbkdf2_hmac(\n",
    "        'sha256', # The hash digest algorithm for HMAC\n",
    "        paswoorden_not_hashed[i].encode('utf-8'), # Convert the password to bytes\n",
    "        salt, # Provide the salt\n",
    "        100000 # It is recommended to use at least 100,000 iterations of SHA-256 \n",
    "        \n",
    "    )\n",
    "    paswoorden_hashed.append(key)\n",
    "print(len(paswoorden_hashed))"
   ]
  },
  {
   "cell_type": "code",
   "execution_count": 70,
   "metadata": {},
   "outputs": [],
   "source": [
    "role_ID = []\n",
    "role = []\n",
    "for _ in range(lengte):\n",
    "    role.append('Client')\n",
    "    ids = fake.msisdn()\n",
    "    role_ID.append(ids)"
   ]
  },
  {
   "cell_type": "code",
   "execution_count": null,
   "metadata": {},
   "outputs": [],
   "source": []
  },
  {
   "cell_type": "code",
   "execution_count": 72,
   "metadata": {},
   "outputs": [
    {
     "name": "stdout",
     "output_type": "stream",
     "text": [
      "       Customer ID First Name       Last Name     Sex             Phone  \\\n",
      "0    0789149633385    Vincent  Van Den Broeck    Male     +32857-450704   \n",
      "1    4557812785476      Chloë         Bogaert  Female     +32851 824086   \n",
      "2    8194094848788       Théo        Fontaine    Male     (0386)-086278   \n",
      "3    2792328828899     Margot         Stevens  Female     (0605) 991909   \n",
      "4    4302850405302     Nathan          Jansen    Male       041 7352415   \n",
      "..             ...        ...             ...     ...               ...   \n",
      "195  6016712591475      Alice        Cornelis  Female     (025)-5863892   \n",
      "196  2348171630911     Sander         Lejeune    Male     (082) 1468571   \n",
      "197  8249608734779      Laure        Charlier  Female       0796 950098   \n",
      "198  7421714593175     Thomas          Dubois    Male  +32(0)347-213058   \n",
      "199  4712231927751      Anaïs        Janssens  Female     +3214 1359950   \n",
      "\n",
      "                       Email Adress Postal Code Bus Number  \\\n",
      "0    Vincent.VanDenBroeck@gmail.com        9500       None   \n",
      "1          Chloë.Bogaert@icloud.com        6248       None   \n",
      "2           Théo.Fontaine@gmail.com        5057       None   \n",
      "3        Margot.Stevens@telenet.com        3173       None   \n",
      "4           Nathan.Jansen@gmail.com        6143       None   \n",
      "..                              ...         ...        ...   \n",
      "195        Alice.Cornelis@yahoo.com        9159       None   \n",
      "196      Sander.Lejeune@hotmail.com        8325       None   \n",
      "197         Laure.Charlier@zoho.com        1008       None   \n",
      "198       Thomas.Dubois@hotmail.com        8813       None   \n",
      "199      Anaïs.Janssens@outlook.com        4964       None   \n",
      "\n",
      "                      City  Country   Username  \\\n",
      "0                 Grandhan  Belgium  Vincent17   \n",
      "1               Courcelles  Belgium   Chloë186   \n",
      "2                    Munte  Belgium    Théo108   \n",
      "3    Beveren-aan-den-Ijzer  Belgium   Margot92   \n",
      "4                Ollignies  Belgium   Nathan34   \n",
      "..                     ...      ...        ...   \n",
      "195       Voroux-lez-Liers  Belgium    Alice45   \n",
      "196    Montignies-lez-Lens  Belgium  Sander153   \n",
      "197                 Bornem  Belgium    Laure51   \n",
      "198    Villers-le-Bouillet  Belgium   Thomas11   \n",
      "199                   Bree  Belgium   Anaïs110   \n",
      "\n",
      "                                              Password        Role ID    Role  \n",
      "0    b'v\\xda\\x86H\\x12\\x82k \\xaf\\x84\\xbf\\x03\\xd2{\\xd...  8969240059997  Client  \n",
      "1    b'\\xc2\\xd6\\x88\\x99\\x14\\xd1\\xbb\\xdb\\xa5K\"\\x12;\\...  9388109412059  Client  \n",
      "2    b'3\\x07\\xf50\\xf9\\xdf\\xb1\\x8f\\x8c\\xa77\\xe3\\xa7\\...  4650625375610  Client  \n",
      "3    b'5\\xac\\xc4\\xb29=\\xe2\\x19\\x13\\xd4\\x8f\\xb9\\x01)...  6024590963876  Client  \n",
      "4    b\"@W\\x87\\xe6\\x89\\xaf (\\xed\\xc5\\x17\\xa4&0\\xf5\\x...  3870396832145  Client  \n",
      "..                                                 ...            ...     ...  \n",
      "195  b'X3\\xf9\\xaa=\\xe9\\x11c\\xad^\\xe0w\\x9e\\x10oV\\xcb...  2940508767440  Client  \n",
      "196  b'\\xa6W\\x9e*]\\x02\\xb2\\xc2\\xb5K\\xd7\\x82\"yT\\xd3\\...  9829206649461  Client  \n",
      "197  b'M&\\xae\\xab\\xd1\\xc4\\xf8\\xb2\\x17\\x0c\\xe6\\xd3N\\...  6529175820585  Client  \n",
      "198  b'H6?\\xd8\\xb0\\xcc\\x1f\\xc8?\\xe3\\x93*\\xc6k1N\\xe3...  6517349368930  Client  \n",
      "199  b'\\xe3\\xd5X/\\x8da\\xeao\\x07vB\\xd2\\xab\\x1f]\\x8f\\...  9225286774576  Client  \n",
      "\n",
      "[200 rows x 14 columns]\n"
     ]
    }
   ],
   "source": [
    "df = pd.DataFrame({\n",
    "    'Customer ID': customer_ID,\n",
    "    'First Name': first_name,\n",
    "    'Last Name': last_name,\n",
    "    'Sex': geslacht,\n",
    "    'Phone': phone,\n",
    "    'Email Adress': email_address,\n",
    "    'Postal Code': postcode,\n",
    "    'Bus Number': bus_nr,\n",
    "    'City': stad,\n",
    "    'Country': land,\n",
    "    'Username' : usernames,\n",
    "    'Password': paswoorden_hashed,\n",
    "    'Role ID': role_ID,\n",
    "    'Role': role\n",
    "})\n",
    "print(df)"
   ]
  },
  {
   "cell_type": "code",
   "execution_count": 73,
   "metadata": {},
   "outputs": [],
   "source": [
    "df.to_csv('customer_database.csv', index = False, header=True)"
   ]
  },
  {
   "cell_type": "code",
   "execution_count": 178,
   "metadata": {},
   "outputs": [],
   "source": []
  },
  {
   "cell_type": "code",
   "execution_count": 14,
   "metadata": {},
   "outputs": [
    {
     "name": "stdout",
     "output_type": "stream",
     "text": [
      "password123\n",
      "password1234\n",
      "[b'Q?\\xd1f\\xe5z\\xeb+AI\\x91\\x8e\\x00\\xcf\\xc9\\xe5\\xd0\\xc9\\xb1\\xd4&\\xacT\\x04d\\xfc,~BG\\xb9&', b'u`\\x98\\xfb\\xf7\\x06L\\xf2\\xfdSr\\xda\\x1a,\\xe3\\xcf\\xec\\xdf\\x17\\x01r\\xbe\\x9f\\x86\\xbc]]E\\xaf\\xf9)\\xb4']\n"
     ]
    }
   ],
   "source": [
    "\n",
    "\n"
   ]
  },
  {
   "cell_type": "code",
   "execution_count": null,
   "metadata": {},
   "outputs": [],
   "source": []
  }
 ],
 "metadata": {
  "kernelspec": {
   "display_name": "Python 3",
   "language": "python",
   "name": "python3"
  },
  "language_info": {
   "codemirror_mode": {
    "name": "ipython",
    "version": 3
   },
   "file_extension": ".py",
   "mimetype": "text/x-python",
   "name": "python",
   "nbconvert_exporter": "python",
   "pygments_lexer": "ipython3",
   "version": "3.7.4"
  }
 },
 "nbformat": 4,
 "nbformat_minor": 2
}
