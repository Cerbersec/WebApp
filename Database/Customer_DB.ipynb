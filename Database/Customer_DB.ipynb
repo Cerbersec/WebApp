{
 "cells": [
  {
   "cell_type": "code",
   "execution_count": 3,
   "metadata": {},
   "outputs": [
    {
     "name": "stdout",
     "output_type": "stream",
     "text": [
      "Requirement already satisfied: names in c:\\users\\smeet\\anaconda3\\lib\\site-packages (0.3.0)\n",
      "Note: you may need to restart the kernel to use updated packages.\n",
      "Requirement already satisfied: Faker in c:\\users\\smeet\\anaconda3\\lib\\site-packages (4.14.0)\n",
      "Requirement already satisfied: python-dateutil>=2.4 in c:\\users\\smeet\\anaconda3\\lib\\site-packages (from Faker) (2.8.0)\n",
      "Requirement already satisfied: text-unidecode==1.3 in c:\\users\\smeet\\anaconda3\\lib\\site-packages (from Faker) (1.3)\n",
      "Requirement already satisfied: six>=1.5 in c:\\users\\smeet\\anaconda3\\lib\\site-packages (from python-dateutil>=2.4->Faker) (1.12.0)\n",
      "Note: you may need to restart the kernel to use updated packages.\n"
     ]
    }
   ],
   "source": [
    "%pip install names\n",
    "%pip install Faker\n",
    "from faker import Faker\n",
    "import random\n",
    "import os\n",
    "import hashlib\n",
    "import string\n",
    "import pandas as pd"
   ]
  },
  {
   "cell_type": "code",
   "execution_count": 4,
   "metadata": {},
   "outputs": [],
   "source": [
    "customer_ID = []\n",
    "first_name = []\n",
    "last_name = []\n",
    "email_address = []\n",
    "address = []\n",
    "postcode = []\n",
    "stad = []\n",
    "land = []\n",
    "phone = []\n",
    "usernames = []\n",
    "password = []\n",
    "geslacht = []"
   ]
  },
  {
   "cell_type": "code",
   "execution_count": 5,
   "metadata": {},
   "outputs": [],
   "source": [
    "mannen_namen = [\"Adrien\",\"Alexander\",\"Alexandre\",\"Alexis\",\"Anthony\",\"Antoine\",\"Arnaud\",\"Arne\",\"Arno\",\"Arthur\",\"Axel\",\"Benjamin\",\"Bram\",\"Brent\",\"Bryan\",\"Clément\",\"Corentin\",\"Cyril\",\"Cédric\",\"Daan\",\"David\",\"Dorian\",\"Dries\",\"Dylan\",\"Elias\",\"Florian\",\"Gilles\",\"Guillaume\",\"Hugo\",\"Jarne\",\"Jason\",\"Jasper\",\"Jens\",\"Jonas\",\"Jonathan\",\"Jordan\",\"Jordy\",\"Julien\",\"Justin\",\"Jérémy\",\"Kevin\",\"Kobe\",\"Lars\",\"Lennert\",\"Liam\",\"Logan\",\"Louis\",\"Loïc\",\"Luca\",\"Lucas\",\"Lukas\",\"Maarten\",\"Martin\",\"Mathias\",\"Mathieu\",\"Matthias\",\"Maxim\",\"Maxime\",\"Mehdi\",\"Michiel\",\"Milan\",\"Mohamed\",\"Nathan\",\"Nick\",\"Nicolas\",\"Niels\",\"Noah\",\"Olivier\",\"Pierre\",\"Pieter\",\"Quentin\",\"Quinten\",\"Robbe\",\"Robin\",\"Romain\",\"Ruben\",\"Ryan\",\"Sam\",\"Samuel\",\"Sander\",\"Seppe\",\"Simon\",\"Stef\",\"Stijn\",\"Sébastien\",\"Thibault\",\"Thibaut\",\"Thomas\",\"Théo\",\"Tibo\",\"Tim\",\"Tom\",\"Tristan\",\"Valentin\",\"Victor\",\"Vincent\",\"Ward\",\"William\",\"Wout\",\"Yannick\"]\n",
    "vrouwen_namen = [\"Alexandra\",\"Alexia\",\"Alice\",\"Alicia\",\"Aline\",\"Amandine\",\"Amber\",\"Amélie\",\"Anaïs\",\"Anke\",\"Anna\",\"Anouk\",\"Audrey\",\"Aurélie\",\"Axelle\",\"Bo\",\"Britt\",\"Camille\",\"Caro\",\"Caroline\",\"Charlotte\",\"Chiara\",\"Chloé\",\"Chloë\",\"Clara\",\"Célia\",\"Céline\",\"Delphine\",\"Eline\",\"Elisa\",\"Elise\",\"Ellen\",\"Elodie\",\"Emilie\",\"Emma\",\"Estelle\",\"Eva\",\"Fanny\",\"Febe\",\"Femke\",\"Fien\",\"Fiona\",\"Fleur\",\"Florence\",\"Hannah\",\"Hanne\",\"Imane\",\"Ine\",\"Ines\",\"Inès\",\"Jade\",\"Jana\",\"Jessica\",\"Jolien\",\"Julie\",\"Juliette\",\"Justine\",\"Kaat\",\"Kato\",\"Kelly\",\"Lara\",\"Laura\",\"Laure\",\"Lauren\",\"Lien\",\"Lies\",\"Lisa\",\"Lise\",\"Lore\",\"Lotte\",\"Louise\",\"Lucie\",\"Luna\",\"Léa\",\"Manon\",\"Margaux\",\"Margot\",\"Marie\",\"Marine\",\"Marthe\",\"Melissa\",\"Morgane\",\"Mélanie\",\"Nina\",\"Noa\",\"Noémie\",\"Océane\",\"Ophélie\",\"Pauline\",\"Rania\",\"Sara\",\"Sarah\",\"Silke\",\"Sofie\",\"Sophie\",\"Valentine\",\"Victoria\",\"Yana\",\"Yasmine\",\"Zoé\",\"Zoë\"]\n",
    "familienamen = [\"Adam\",\"Aerts\",\"Baert\",\"Bauwens\",\"Beckers\",\"Bertrand\",\"Bogaert\",\"Bogaerts\",\"Bosmans\",\"Carlier\",\"Charlier\",\"Christiaens\",\"Claes\",\"Claessens\",\"Claeys\",\"Cools\",\"Coppens\",\"Cornelis\",\"De Backer\",\"De Clercq\",\"De Cock\",\"De Meyer\",\"De Pauw\",\"De Ridder\",\"De Smedt\",\"De Smet\",\"De Vos\",\"De Wilde\",\"Declercq\",\"Denis\",\"Deprez\",\"Desmet\",\"Devos\",\"Dubois\",\"Dumont\",\"Dupont\",\"Evrard\",\"Fontaine\",\"François\",\"Geerts\",\"Goossens\",\"Gérard\",\"Hendrickx\",\"Hermans\",\"Jacobs\",\"Jansen\",\"Janssen\",\"Janssens\",\"Lambert\",\"Lambrechts\",\"Laurent\",\"Lauwers\",\"Leclercq\",\"Lejeune\",\"Lemaire\",\"Lemmens\",\"Lenaerts\",\"Leroy\",\"Maes\",\"Martens\",\"Martin\",\"Mathieu\",\"Mertens\",\"Michel\",\"Michiels\",\"Moens\",\"Noël\",\"Pauwels\",\"Peeters\",\"Petit\",\"Pieters\",\"Renard\",\"Segers\",\"Simon\",\"Simons\",\"Smet\",\"Smets\",\"Stevens\",\"Thomas\",\"Thys\",\"Timmermans\",\"Van Damme\",\"Van De Velde\",\"Van Den Broeck\",\"Van Dyck\",\"Vandenberghe\",\"Verbeke\",\"Verheyen\",\"Verhoeven\",\"Verlinden\",\"Vermeersch\",\"Vermeiren\",\"Vermeulen\",\"Verschueren\",\"Verstraete\",\"Verstraeten\",\"Wauters\",\"Willems\",\"Wouters\",\"Wuyts\"]\n",
    "\n",
    "for x in range(100):\n",
    "    naam_man = random.choice(mannen_namen)\n",
    "    first_name.append(naam_man)\n",
    "    geslacht.append(\"Men\")\n",
    "    naam_vrouw = random.choice(vrouwen_namen)\n",
    "    first_name.append(naam_vrouw)\n",
    "    geslacht.append(\"Women\")\n",
    "    \n",
    "\n",
    "for x in range(200):\n",
    "    familie_naam = random.choice(familienamen)\n",
    "    last_name.append(familie_naam)"
   ]
  },
  {
   "cell_type": "code",
   "execution_count": 6,
   "metadata": {},
   "outputs": [],
   "source": [
    "#print(first_name)\n",
    "#print(last_name)"
   ]
  },
  {
   "cell_type": "code",
   "execution_count": 7,
   "metadata": {},
   "outputs": [
    {
     "name": "stdout",
     "output_type": "stream",
     "text": [
      "200\n"
     ]
    }
   ],
   "source": [
    "domeinen = [\"@hotmail.com\",\"@gmail.com\",\"@telenet.com\",\"@zoho.com\",\"@outlook.com\",\"@yahoo.com\",\"@icloud.com\"]\n",
    "lengte = len(first_name)\n",
    "print(lengte)\n",
    "for x in range(lengte):\n",
    "    email = (first_name[x] + \".\"+ last_name[x]+ random.choice(domeinen))\n",
    "    email = email.replace(\" \",\"\")\n",
    "    email_address.append(email)\n",
    "    \n",
    "#print((email_address))"
   ]
  },
  {
   "cell_type": "code",
   "execution_count": 8,
   "metadata": {},
   "outputs": [],
   "source": [
    "fake = Faker('nl_BE')\n",
    "lengte = len(first_name)\n",
    "for _ in range(lengte):\n",
    "    ids = fake.msisdn()\n",
    "    adr = fake.street_address()\n",
    "    pos = fake.postcode()\n",
    "    cit = fake.city()\n",
    "    customer_ID.append(ids)\n",
    "    address.append(adr)\n",
    "    postcode.append(pos)\n",
    "    stad.append(cit)\n",
    "    land.append('Belgium')\n",
    "    tel = fake.phone_number()\n",
    "    phone.append(tel)\n"
   ]
  },
  {
   "cell_type": "code",
   "execution_count": 9,
   "metadata": {},
   "outputs": [],
   "source": [
    "#print(customer_ID)"
   ]
  },
  {
   "cell_type": "code",
   "execution_count": 10,
   "metadata": {},
   "outputs": [],
   "source": [
    "for x in range(len(first_name)):\n",
    "    user = first_name[x] + str(random.randint(10,200))\n",
    "    usernames.append(user)\n",
    "    "
   ]
  },
  {
   "cell_type": "code",
   "execution_count": 11,
   "metadata": {},
   "outputs": [],
   "source": [
    "#print(usernames)"
   ]
  },
  {
   "cell_type": "code",
   "execution_count": 12,
   "metadata": {},
   "outputs": [],
   "source": [
    "def get_random_password_string(length):\n",
    "    password_characters = string.ascii_letters + string.digits + string.punctuation\n",
    "    password = ''.join(random.choice(password_characters) for i in range(length))\n",
    "    return password"
   ]
  },
  {
   "cell_type": "code",
   "execution_count": 13,
   "metadata": {},
   "outputs": [],
   "source": [
    "paswoorden_not_hashed = []\n",
    "for x in range(len(first_name)):\n",
    "    pas = get_random_password_string(10)\n",
    "    paswoorden_not_hashed.append(pas)"
   ]
  },
  {
   "cell_type": "code",
   "execution_count": 14,
   "metadata": {},
   "outputs": [],
   "source": [
    "#for x in range(len(paswoorden_not_hashed)):\n",
    "#    pas = paswoorden_not_hashed[x].encode()\n",
    "#    salt = os.urandom(16)\n",
    "#    password_hash = hashlib.pbkdf2_hmac(\"sha256\", pas, salt, 100000)\n",
    "#    password.extend(password_hash)"
   ]
  },
  {
   "cell_type": "code",
   "execution_count": 15,
   "metadata": {},
   "outputs": [
    {
     "name": "stdout",
     "output_type": "stream",
     "text": [
      "       Customer ID First Name  Last Name    Sex             Phone  \\\n",
      "0    2705762416572      Lucas  Verlinden    Men  +32(0)115 121646   \n",
      "1    7766462843710      Silke   François  Women     (0918) 128930   \n",
      "2    8734946084565      Jarne    Bogaert    Men     +3211-4070729   \n",
      "3    8633643184817      Sofie   François  Women       0462 741200   \n",
      "4    5740851308792       Lars     Simons    Men     (054) 2197528   \n",
      "..             ...        ...        ...    ...               ...   \n",
      "195  0544136782126      Marie     Michel  Women       009 8372570   \n",
      "196  5858819963783   Thibault      Petit    Men       0692 414187   \n",
      "197  6857987978420     Céline    Stevens  Women     +3228-8374775   \n",
      "198  3359746271535     Thomas       Adam    Men     (0596) 072149   \n",
      "199  3779553646473       Kato    Lemaire  Women     +32843 240205   \n",
      "\n",
      "                   Email Adress Postal Code            City  Country  \\\n",
      "0    Lucas.Verlinden@icloud.com        2656         Ucimont  Belgium   \n",
      "1       Silke.François@zoho.com        7945       Bailièvre  Belgium   \n",
      "2     Jarne.Bogaert@telenet.com        8122     Bettincourt  Belgium   \n",
      "3      Sofie.François@yahoo.com        8790         Weillen  Belgium   \n",
      "4         Lars.Simons@yahoo.com        1261          Rienne  Belgium   \n",
      "..                          ...         ...             ...      ...   \n",
      "195       Marie.Michel@zoho.com        5087   Grand-Halleux  Belgium   \n",
      "196  Thibault.Petit@hotmail.com        7895           Poeke  Belgium   \n",
      "197    Céline.Stevens@yahoo.com        5093     Lampernisse  Belgium   \n",
      "198     Thomas.Adam@telenet.com        2525  Genoelselderen  Belgium   \n",
      "199    Kato.Lemaire@telenet.com        6144  Vaux-et-Borset  Belgium   \n",
      "\n",
      "        Username    Password  \n",
      "0        Lucas61  ,A%w_G8[BB  \n",
      "1       Silke173  w:EZ8>UFhe  \n",
      "2       Jarne112  VoRn3^acn2  \n",
      "3        Sofie24  V.R4pj|T@k  \n",
      "4        Lars128  a1E%ei`E@,  \n",
      "..           ...         ...  \n",
      "195     Marie127  p?'6/s{S+[  \n",
      "196  Thibault199  &>]pBfwND2  \n",
      "197     Céline61  CXulc3^\\wB  \n",
      "198    Thomas116  f]m@&jKS1^  \n",
      "199       Kato71  ),Vz*@pxHc  \n",
      "\n",
      "[200 rows x 11 columns]\n"
     ]
    }
   ],
   "source": [
    "df = pd.DataFrame({\n",
    "    'Customer ID': customer_ID,\n",
    "    'First Name': first_name,\n",
    "    'Last Name': last_name,\n",
    "    'Sex': geslacht,\n",
    "    'Phone': phone,\n",
    "    'Email Adress': email_address,\n",
    "    'Postal Code': postcode,\n",
    "    'City': stad,\n",
    "    'Country': land,\n",
    "    'Username' : usernames,\n",
    "    'Password': paswoorden_not_hashed\n",
    "})\n",
    "print(df)"
   ]
  },
  {
   "cell_type": "code",
   "execution_count": 16,
   "metadata": {},
   "outputs": [],
   "source": [
    "df.to_csv('customer_database.csv', index = False, header=True)"
   ]
  },
  {
   "cell_type": "code",
   "execution_count": 178,
   "metadata": {},
   "outputs": [],
   "source": []
  },
  {
   "cell_type": "code",
   "execution_count": null,
   "metadata": {},
   "outputs": [],
   "source": []
  }
 ],
 "metadata": {
  "kernelspec": {
   "display_name": "Python 3",
   "language": "python",
   "name": "python3"
  },
  "language_info": {
   "codemirror_mode": {
    "name": "ipython",
    "version": 3
   },
   "file_extension": ".py",
   "mimetype": "text/x-python",
   "name": "python",
   "nbconvert_exporter": "python",
   "pygments_lexer": "ipython3",
   "version": "3.7.4"
  }
 },
 "nbformat": 4,
 "nbformat_minor": 2
}
