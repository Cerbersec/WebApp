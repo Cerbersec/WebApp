{
 "cells": [
  {
   "cell_type": "code",
   "execution_count": 166,
   "metadata": {},
   "outputs": [
    {
     "name": "stdout",
     "output_type": "stream",
     "text": [
      "Requirement already satisfied: names in c:\\users\\smeet\\anaconda3\\lib\\site-packages (0.3.0)\n",
      "Note: you may need to restart the kernel to use updated packages.\n",
      "Requirement already satisfied: Faker in c:\\users\\smeet\\anaconda3\\lib\\site-packages (4.14.0)\n",
      "Requirement already satisfied: text-unidecode==1.3 in c:\\users\\smeet\\anaconda3\\lib\\site-packages (from Faker) (1.3)\n",
      "Requirement already satisfied: python-dateutil>=2.4 in c:\\users\\smeet\\anaconda3\\lib\\site-packages (from Faker) (2.8.0)\n",
      "Requirement already satisfied: six>=1.5 in c:\\users\\smeet\\anaconda3\\lib\\site-packages (from python-dateutil>=2.4->Faker) (1.12.0)\n",
      "Note: you may need to restart the kernel to use updated packages.\n"
     ]
    }
   ],
   "source": [
    "%pip install names\n",
    "%pip install Faker\n",
    "from faker import Faker\n",
    "import random\n",
    "import os\n",
    "import hashlib\n",
    "import string\n",
    "import pandas as pd"
   ]
  },
  {
   "cell_type": "code",
   "execution_count": 154,
   "metadata": {},
   "outputs": [],
   "source": [
    "customer_ID = []\n",
    "first_name = []\n",
    "last_name = []\n",
    "email_address = []\n",
    "address = []\n",
    "postcode = []\n",
    "stad = []\n",
    "land = []\n",
    "phone = []\n",
    "usernames = []\n",
    "password = []"
   ]
  },
  {
   "cell_type": "code",
   "execution_count": 155,
   "metadata": {},
   "outputs": [],
   "source": [
    "mannen_namen = [\"Adrien\",\"Alexander\",\"Alexandre\",\"Alexis\",\"Anthony\",\"Antoine\",\"Arnaud\",\"Arne\",\"Arno\",\"Arthur\",\"Axel\",\"Benjamin\",\"Bram\",\"Brent\",\"Bryan\",\"Clément\",\"Corentin\",\"Cyril\",\"Cédric\",\"Daan\",\"David\",\"Dorian\",\"Dries\",\"Dylan\",\"Elias\",\"Florian\",\"Gilles\",\"Guillaume\",\"Hugo\",\"Jarne\",\"Jason\",\"Jasper\",\"Jens\",\"Jonas\",\"Jonathan\",\"Jordan\",\"Jordy\",\"Julien\",\"Justin\",\"Jérémy\",\"Kevin\",\"Kobe\",\"Lars\",\"Lennert\",\"Liam\",\"Logan\",\"Louis\",\"Loïc\",\"Luca\",\"Lucas\",\"Lukas\",\"Maarten\",\"Martin\",\"Mathias\",\"Mathieu\",\"Matthias\",\"Maxim\",\"Maxime\",\"Mehdi\",\"Michiel\",\"Milan\",\"Mohamed\",\"Nathan\",\"Nick\",\"Nicolas\",\"Niels\",\"Noah\",\"Olivier\",\"Pierre\",\"Pieter\",\"Quentin\",\"Quinten\",\"Robbe\",\"Robin\",\"Romain\",\"Ruben\",\"Ryan\",\"Sam\",\"Samuel\",\"Sander\",\"Seppe\",\"Simon\",\"Stef\",\"Stijn\",\"Sébastien\",\"Thibault\",\"Thibaut\",\"Thomas\",\"Théo\",\"Tibo\",\"Tim\",\"Tom\",\"Tristan\",\"Valentin\",\"Victor\",\"Vincent\",\"Ward\",\"William\",\"Wout\",\"Yannick\"]\n",
    "vrouwen_namen = [\"Alexandra\",\"Alexia\",\"Alice\",\"Alicia\",\"Aline\",\"Amandine\",\"Amber\",\"Amélie\",\"Anaïs\",\"Anke\",\"Anna\",\"Anouk\",\"Audrey\",\"Aurélie\",\"Axelle\",\"Bo\",\"Britt\",\"Camille\",\"Caro\",\"Caroline\",\"Charlotte\",\"Chiara\",\"Chloé\",\"Chloë\",\"Clara\",\"Célia\",\"Céline\",\"Delphine\",\"Eline\",\"Elisa\",\"Elise\",\"Ellen\",\"Elodie\",\"Emilie\",\"Emma\",\"Estelle\",\"Eva\",\"Fanny\",\"Febe\",\"Femke\",\"Fien\",\"Fiona\",\"Fleur\",\"Florence\",\"Hannah\",\"Hanne\",\"Imane\",\"Ine\",\"Ines\",\"Inès\",\"Jade\",\"Jana\",\"Jessica\",\"Jolien\",\"Julie\",\"Juliette\",\"Justine\",\"Kaat\",\"Kato\",\"Kelly\",\"Lara\",\"Laura\",\"Laure\",\"Lauren\",\"Lien\",\"Lies\",\"Lisa\",\"Lise\",\"Lore\",\"Lotte\",\"Louise\",\"Lucie\",\"Luna\",\"Léa\",\"Manon\",\"Margaux\",\"Margot\",\"Marie\",\"Marine\",\"Marthe\",\"Melissa\",\"Morgane\",\"Mélanie\",\"Nina\",\"Noa\",\"Noémie\",\"Océane\",\"Ophélie\",\"Pauline\",\"Rania\",\"Sara\",\"Sarah\",\"Silke\",\"Sofie\",\"Sophie\",\"Valentine\",\"Victoria\",\"Yana\",\"Yasmine\",\"Zoé\",\"Zoë\"]\n",
    "familienamen = [\"Adam\",\"Aerts\",\"Baert\",\"Bauwens\",\"Beckers\",\"Bertrand\",\"Bogaert\",\"Bogaerts\",\"Bosmans\",\"Carlier\",\"Charlier\",\"Christiaens\",\"Claes\",\"Claessens\",\"Claeys\",\"Cools\",\"Coppens\",\"Cornelis\",\"De Backer\",\"De Clercq\",\"De Cock\",\"De Meyer\",\"De Pauw\",\"De Ridder\",\"De Smedt\",\"De Smet\",\"De Vos\",\"De Wilde\",\"Declercq\",\"Denis\",\"Deprez\",\"Desmet\",\"Devos\",\"Dubois\",\"Dumont\",\"Dupont\",\"Evrard\",\"Fontaine\",\"François\",\"Geerts\",\"Goossens\",\"Gérard\",\"Hendrickx\",\"Hermans\",\"Jacobs\",\"Jansen\",\"Janssen\",\"Janssens\",\"Lambert\",\"Lambrechts\",\"Laurent\",\"Lauwers\",\"Leclercq\",\"Lejeune\",\"Lemaire\",\"Lemmens\",\"Lenaerts\",\"Leroy\",\"Maes\",\"Martens\",\"Martin\",\"Mathieu\",\"Mertens\",\"Michel\",\"Michiels\",\"Moens\",\"Noël\",\"Pauwels\",\"Peeters\",\"Petit\",\"Pieters\",\"Renard\",\"Segers\",\"Simon\",\"Simons\",\"Smet\",\"Smets\",\"Stevens\",\"Thomas\",\"Thys\",\"Timmermans\",\"Van Damme\",\"Van De Velde\",\"Van Den Broeck\",\"Van Dyck\",\"Vandenberghe\",\"Verbeke\",\"Verheyen\",\"Verhoeven\",\"Verlinden\",\"Vermeersch\",\"Vermeiren\",\"Vermeulen\",\"Verschueren\",\"Verstraete\",\"Verstraeten\",\"Wauters\",\"Willems\",\"Wouters\",\"Wuyts\"]\n",
    "\n",
    "for x in range(100):\n",
    "    naam_man = random.choice(mannen_namen)\n",
    "    first_name.append(naam_man)\n",
    "    naam_vrouw = random.choice(vrouwen_namen)\n",
    "    first_name.append(naam_vrouw)\n",
    "    \n",
    "\n",
    "for x in range(200):\n",
    "    familie_naam = random.choice(familienamen)\n",
    "    last_name.append(familie_naam)"
   ]
  },
  {
   "cell_type": "code",
   "execution_count": 156,
   "metadata": {},
   "outputs": [],
   "source": [
    "#print(first_name)\n",
    "#print(last_name)"
   ]
  },
  {
   "cell_type": "code",
   "execution_count": 157,
   "metadata": {},
   "outputs": [
    {
     "name": "stdout",
     "output_type": "stream",
     "text": [
      "200\n"
     ]
    }
   ],
   "source": [
    "domeinen = [\"@hotmail.com\",\"@gmail.com\",\"@telenet.com\",\"@zoho.com\",\"@outlook.com\",\"@yahoo.com\",\"@icloud.com\"]\n",
    "lengte = len(first_name)\n",
    "print(lengte)\n",
    "for x in range(lengte):\n",
    "    email = (first_name[x] + \".\"+ last_name[x]+ random.choice(domeinen))\n",
    "    email = email.replace(\" \",\"\")\n",
    "    email_address.append(email)\n",
    "    \n",
    "#print((email_address))"
   ]
  },
  {
   "cell_type": "code",
   "execution_count": 158,
   "metadata": {},
   "outputs": [],
   "source": [
    "fake = Faker('nl_BE')\n",
    "lengte = len(first_name)\n",
    "for _ in range(lengte):\n",
    "    ids = fake.msisdn()\n",
    "    adr = fake.street_address()\n",
    "    pos = fake.postcode()\n",
    "    cit = fake.city()\n",
    "    customer_ID.append(ids)\n",
    "    address.append(adr)\n",
    "    postcode.append(pos)\n",
    "    stad.append(cit)\n",
    "    land.append('Belgium')\n",
    "    tel = fake.phone_number()\n",
    "    phone.append(tel)\n"
   ]
  },
  {
   "cell_type": "code",
   "execution_count": 159,
   "metadata": {},
   "outputs": [],
   "source": [
    "#print(customer_ID)"
   ]
  },
  {
   "cell_type": "code",
   "execution_count": 160,
   "metadata": {},
   "outputs": [],
   "source": [
    "for x in range(len(first_name)):\n",
    "    user = first_name[x] + str(random.randint(10,200))\n",
    "    usernames.append(user)\n",
    "    "
   ]
  },
  {
   "cell_type": "code",
   "execution_count": 161,
   "metadata": {},
   "outputs": [],
   "source": [
    "#print(usernames)"
   ]
  },
  {
   "cell_type": "code",
   "execution_count": 170,
   "metadata": {},
   "outputs": [],
   "source": [
    "def get_random_password_string(length):\n",
    "    password_characters = string.ascii_letters + string.digits + string.punctuation\n",
    "    password = ''.join(random.choice(password_characters) for i in range(length))\n",
    "    return password"
   ]
  },
  {
   "cell_type": "code",
   "execution_count": 163,
   "metadata": {},
   "outputs": [],
   "source": [
    "paswoorden_not_hashed = []\n",
    "for x in range(len(first_name)):\n",
    "    pas = get_random_password_string(10)\n",
    "    paswoorden_not_hashed.append(pas)"
   ]
  },
  {
   "cell_type": "code",
   "execution_count": 169,
   "metadata": {},
   "outputs": [],
   "source": [
    "#for x in range(len(paswoorden_not_hashed)):\n",
    "#    pas = paswoorden_not_hashed[x].encode()\n",
    "#    salt = os.urandom(16)\n",
    "#    password_hash = hashlib.pbkdf2_hmac(\"sha256\", pas, salt, 100000)\n",
    "#    password.extend(password_hash)"
   ]
  },
  {
   "cell_type": "code",
   "execution_count": 167,
   "metadata": {},
   "outputs": [
    {
     "name": "stdout",
     "output_type": "stream",
     "text": [
      "       Customer ID First Name  Last Name             Phone  \\\n",
      "0    9306526787781      Jason  Hendrickx       0482-967824   \n",
      "1    7609703697344     Marthe   De Wilde       0068-823527   \n",
      "2    7866094446123      Jordy    Lejeune  +32(0)457 828327   \n",
      "3    7918893824846        Léa    Pauwels       0787 682285   \n",
      "4    9203393529539       Ryan   Charlier  +32(0)09 8088868   \n",
      "..             ...        ...        ...               ...   \n",
      "195  7761107093268      Célia      Devos  +32(0)858 420750   \n",
      "196  7460599977770       Kobe   Janssens  +32(0)13-5008873   \n",
      "197  7509355880539      Fanny      Leroy       0797 787429   \n",
      "198  1964160952065    Vincent   Lenaerts     (043) 2803506   \n",
      "199  5713750425870       Ines   Charlier     +3226 1767885   \n",
      "\n",
      "                     Email Adress Postal Code             City  Country  \\\n",
      "0     Jason.Hendrickx@telenet.com        6489  's-Gravenvoeren  Belgium   \n",
      "1       Marthe.DeWilde@icloud.com        4387     Arc-Ainières  Belgium   \n",
      "2       Jordy.Lejeune@outlook.com        8625           Beigem  Belgium   \n",
      "3           Léa.Pauwels@yahoo.com        8827       Tontelange  Belgium   \n",
      "4          Ryan.Charlier@zoho.com        3273           Kessel  Belgium   \n",
      "..                            ...         ...              ...      ...   \n",
      "195       Célia.Devos@telenet.com        3612         Jesseren  Belgium   \n",
      "196      Kobe.Janssens@icloud.com        2836           Sosoye  Belgium   \n",
      "197        Fanny.Leroy@icloud.com        2165            Mater  Belgium   \n",
      "198  Vincent.Lenaerts@hotmail.com        6931           Magnée  Belgium   \n",
      "199     Ines.Charlier@hotmail.com        7890         Bulskamp  Belgium   \n",
      "\n",
      "       Username    Password  \n",
      "0      Jason107  Xt&Lzs'J~6  \n",
      "1     Marthe143  A[{6tp;Q`F  \n",
      "2      Jordy121  O8Ksna3v1:  \n",
      "3         Léa66  Fg#O~Pr2%%  \n",
      "4       Ryan132  9dk@me6K.?  \n",
      "..          ...         ...  \n",
      "195     Célia14  8vtrdr7jlm  \n",
      "196     Kobe124  k>GDo(5LTy  \n",
      "197     Fanny53  Huno7&11E7  \n",
      "198  Vincent195  PW>mP:^%?|  \n",
      "199     Ines101  rfQ`cZ4!H_  \n",
      "\n",
      "[200 rows x 10 columns]\n"
     ]
    }
   ],
   "source": [
    "df = pd.DataFrame({\n",
    "    'Customer ID': customer_ID,\n",
    "    'First Name': first_name,\n",
    "    'Last Name': last_name,\n",
    "    'Phone': phone,\n",
    "    'Email Adress': email_address,\n",
    "    'Postal Code': postcode,\n",
    "    'City': stad,\n",
    "    'Country': land,\n",
    "    'Username' : usernames,\n",
    "    'Password': paswoorden_not_hashed\n",
    "})\n",
    "print(df)"
   ]
  },
  {
   "cell_type": "code",
   "execution_count": 177,
   "metadata": {},
   "outputs": [],
   "source": [
    "df.to_csv('customer_database.csv', index = False, header=True)"
   ]
  },
  {
   "cell_type": "code",
   "execution_count": 178,
   "metadata": {},
   "outputs": [],
   "source": []
  },
  {
   "cell_type": "code",
   "execution_count": null,
   "metadata": {},
   "outputs": [],
   "source": []
  }
 ],
 "metadata": {
  "kernelspec": {
   "display_name": "Python 3",
   "language": "python",
   "name": "python3"
  },
  "language_info": {
   "codemirror_mode": {
    "name": "ipython",
    "version": 3
   },
   "file_extension": ".py",
   "mimetype": "text/x-python",
   "name": "python",
   "nbconvert_exporter": "python",
   "pygments_lexer": "ipython3",
   "version": "3.7.4"
  }
 },
 "nbformat": 4,
 "nbformat_minor": 2
}
